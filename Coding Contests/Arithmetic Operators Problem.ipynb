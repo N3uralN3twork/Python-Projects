{
 "cells": [
  {
   "cell_type": "markdown",
   "metadata": {
    "toc": true
   },
   "source": [
    "<h1>Table of Contents<span class=\"tocSkip\"></span></h1>\n",
    "<div class=\"toc\"><ul class=\"toc-item\"></ul></div>"
   ]
  },
  {
   "cell_type": "markdown",
   "metadata": {},
   "source": [
    "**Task**\n",
    "\n",
    "Read two integers from STDIN and print three lines where:\n",
    "\n",
    "1. The first line contains the sum of the two numbers.\n",
    "\n",
    "2. The second line contains the difference of the two numbers (first - second).\n",
    "\n",
    "3. The third line contains the product of the two numbers.\n",
    "\n",
    "**Input Format**\n",
    "\n",
    "The first line contains the first integer, $a$. The second line contains the second integer, $b$.\n",
    "\n",
    "**Constraints**\n",
    "\n",
    "$1 \\le a \\le 10^{10}$\n",
    "\n",
    "$1 \\le b \\le 10^{10}$\n",
    "\n",
    "**Output Format**\n",
    "\n",
    "Print the three lines as explained above.\n",
    "\n",
    "**Sample Input**\n",
    "\n",
    "`3\n",
    " 2\n",
    "`\n",
    "\n",
    "**Sample Output**\n",
    "\n",
    "`\n",
    " 5\n",
    " 1\n",
    " 6\n",
    "`"
   ]
  },
  {
   "cell_type": "code",
   "execution_count": 6,
   "metadata": {},
   "outputs": [
    {
     "name": "stdout",
     "output_type": "stream",
     "text": [
      "5\n",
      "1\n",
      "6\n"
     ]
    }
   ],
   "source": [
    "def arithmetic(a, b):\n",
    "    print(a+b)\n",
    "    print(a-b)\n",
    "    print(a*b)\n",
    "    \n",
    "arithmetic(3, 2)"
   ]
  }
 ],
 "metadata": {
  "kernelspec": {
   "display_name": "Python 3",
   "language": "python",
   "name": "python3"
  },
  "language_info": {
   "codemirror_mode": {
    "name": "ipython",
    "version": 3
   },
   "file_extension": ".py",
   "mimetype": "text/x-python",
   "name": "python",
   "nbconvert_exporter": "python",
   "pygments_lexer": "ipython3",
   "version": "3.7.7"
  },
  "toc": {
   "base_numbering": 1,
   "nav_menu": {},
   "number_sections": true,
   "sideBar": true,
   "skip_h1_title": false,
   "title_cell": "Table of Contents",
   "title_sidebar": "Contents",
   "toc_cell": true,
   "toc_position": {},
   "toc_section_display": true,
   "toc_window_display": false
  }
 },
 "nbformat": 4,
 "nbformat_minor": 4
}
