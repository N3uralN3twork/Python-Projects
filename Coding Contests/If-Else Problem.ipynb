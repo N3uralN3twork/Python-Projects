{
 "cells": [
  {
   "cell_type": "markdown",
   "metadata": {
    "toc": true
   },
   "source": [
    "<h1>Table of Contents<span class=\"tocSkip\"></span></h1>\n",
    "<div class=\"toc\"><ul class=\"toc-item\"><li><span><a href=\"#The-If-Else-Problem:\" data-toc-modified-id=\"The-If-Else-Problem:-1\"><span class=\"toc-item-num\">1&nbsp;&nbsp;</span>The If-Else Problem:</a></span></li></ul></div>"
   ]
  },
  {
   "cell_type": "markdown",
   "metadata": {
    "collapsed": true,
    "pycharm": {
     "name": "#%% md\n"
    }
   },
   "source": [
    "# The If-Else Problem:\n",
    "\n",
    "[Source](https://www.hackerrank.com/challenges/py-if-else/problem)\n",
    "\n",
    "**Task**\n",
    "\n",
    "Given an integer, $n$, perform the following conditional actions:\n",
    "\n",
    "* If $n$ is odd, print `Weird`\n",
    "\n",
    "* If $n$ is even and in the inclusive range of 2 to 5, print `Not Weird`\n",
    "\n",
    "* If $n$ is even and in the inclusive range of 6 to 20, print `Weird`\n",
    "\n",
    "* If $n$ is even and greater than 20, print `Not Weird`\n",
    "\n",
    "**Input Format**\n",
    "\n",
    "A single line containing a positive integer, $n$.\n",
    "\n",
    "**Constraints**\n",
    "\n",
    "* $1 \\le n\\le100$\n",
    "\n",
    "**Output Format**\n",
    "\n",
    "Print `Weird` if the number is weird; otherwise, print `Not Weird`\n",
    "\n",
    "**Sample Input**\n",
    "\n",
    "`3`\n",
    "\n",
    "**Sample Output**\n",
    "\n",
    "`Weird`"
   ]
  },
  {
   "cell_type": "code",
   "execution_count": 2,
   "metadata": {
    "pycharm": {
     "name": "#%%\n"
    }
   },
   "outputs": [
    {
     "name": "stdout",
     "output_type": "stream",
     "text": [
      "Not Weird\n"
     ]
    }
   ],
   "source": [
    "def WeirdorNot(n):\n",
    "    if n <= 100 and n >= 1:\n",
    "        if n%2 != 0:\n",
    "            print(\"Weird\")\n",
    "        else:\n",
    "            print(\"Not Weird\")\n",
    "    else:\n",
    "        pass\n",
    "\n",
    "WeirdorNot(24)"
   ]
  }
 ],
 "metadata": {
  "kernelspec": {
   "display_name": "Python 3",
   "language": "python",
   "name": "python3"
  },
  "language_info": {
   "codemirror_mode": {
    "name": "ipython",
    "version": 3
   },
   "file_extension": ".py",
   "mimetype": "text/x-python",
   "name": "python",
   "nbconvert_exporter": "python",
   "pygments_lexer": "ipython3",
   "version": "3.7.7"
  },
  "toc": {
   "base_numbering": 1,
   "nav_menu": {},
   "number_sections": true,
   "sideBar": true,
   "skip_h1_title": false,
   "title_cell": "Table of Contents",
   "title_sidebar": "Contents",
   "toc_cell": true,
   "toc_position": {},
   "toc_section_display": true,
   "toc_window_display": false
  }
 },
 "nbformat": 4,
 "nbformat_minor": 1
}
