{
 "cells": [
  {
   "cell_type": "markdown",
   "metadata": {
    "toc": true
   },
   "source": [
    "<h1>Table of Contents<span class=\"tocSkip\"></span></h1>\n",
    "<div class=\"toc\"><ul class=\"toc-item\"><li><span><a href=\"#Integers-Come-in-All-Sizes\" data-toc-modified-id=\"Integers-Come-in-All-Sizes-1\"><span class=\"toc-item-num\">1&nbsp;&nbsp;</span>Integers Come in All Sizes</a></span></li></ul></div>"
   ]
  },
  {
   "cell_type": "markdown",
   "metadata": {},
   "source": [
    "# Integers Come in All Sizes\n",
    "\n",
    "[Source](https://www.hackerrank.com/challenges/python-integers-come-in-all-sizes/problem)\n",
    "\n",
    "Integers in Python can be as big as the bytes in your machine's memory. There is no limit in size as there is: $2^{31}-1$ or $2^{63}-1$.\n",
    "\n",
    "As we know, the result of $a^{b}$ grows really fast with increasing $b$.\n",
    "\n",
    "Let's do some calculations on very large integers.\n",
    "\n",
    "**Task**\n",
    "\n",
    "Read four numbers, $a$, $b$, $c$, and $d$, and print the result of $a^{b}+c^{d}$.\n",
    "\n",
    "**Input Format**\n",
    "\n",
    "Integers $a$, $b$, $c$, and $d$ are given on four separate lines, respectively.\n",
    "\n",
    "**Constraints**\n",
    "\n",
    "$1 \\le a,b,c,d \\le 1000$\n",
    "\n",
    "**Output Format**\n",
    "\n",
    "Print the result of $a^{b}+c^{d}$ on one line.\n",
    "\n",
    "**Sample Input**\n",
    "\n",
    "`9\n",
    "29\n",
    "7\n",
    "27`\n",
    "\n",
    "**Sample Output**\n",
    "\n",
    "`4710194409608608369201743232` "
   ]
  },
  {
   "cell_type": "code",
   "execution_count": 1,
   "metadata": {},
   "outputs": [
    {
     "name": "stdout",
     "output_type": "stream",
     "text": [
      "9\n",
      "29\n",
      "7\n",
      "27\n"
     ]
    },
    {
     "data": {
      "text/plain": [
       "4710194409608608369201743232"
      ]
     },
     "execution_count": 1,
     "metadata": {},
     "output_type": "execute_result"
    }
   ],
   "source": [
    "def formula():\n",
    "    a = int(input())\n",
    "    b = int(input())\n",
    "    c = int(input())\n",
    "    d = int(input())\n",
    "    return (a**b)+(c**d)\n",
    "\n",
    "formula()"
   ]
  }
 ],
 "metadata": {
  "kernelspec": {
   "display_name": "Python 3",
   "language": "python",
   "name": "python3"
  },
  "language_info": {
   "codemirror_mode": {
    "name": "ipython",
    "version": 3
   },
   "file_extension": ".py",
   "mimetype": "text/x-python",
   "name": "python",
   "nbconvert_exporter": "python",
   "pygments_lexer": "ipython3",
   "version": "3.7.7"
  },
  "toc": {
   "base_numbering": 1,
   "nav_menu": {},
   "number_sections": true,
   "sideBar": true,
   "skip_h1_title": false,
   "title_cell": "Table of Contents",
   "title_sidebar": "Contents",
   "toc_cell": true,
   "toc_position": {},
   "toc_section_display": true,
   "toc_window_display": false
  }
 },
 "nbformat": 4,
 "nbformat_minor": 4
}
