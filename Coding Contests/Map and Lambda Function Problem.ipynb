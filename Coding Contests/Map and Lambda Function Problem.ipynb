{
 "cells": [
  {
   "cell_type": "markdown",
   "metadata": {
    "toc": true
   },
   "source": [
    "<h1>Table of Contents<span class=\"tocSkip\"></span></h1>\n",
    "<div class=\"toc\"><ul class=\"toc-item\"><li><span><a href=\"#Map-and-Lambda-Function\" data-toc-modified-id=\"Map-and-Lambda-Function-1\"><span class=\"toc-item-num\">1&nbsp;&nbsp;</span>Map and Lambda Function</a></span></li></ul></div>"
   ]
  },
  {
   "cell_type": "markdown",
   "metadata": {},
   "source": [
    "# Map and Lambda Function\n",
    "\n",
    "Let's learn some new Python concepts! You have to generate a list of the first $N$ fibonacci numbers, $0$ being the first number. Then, apply the map function and a lambda expression to cube each fibonacci number and print the list.\n",
    "\n",
    "**Concept**\n",
    "\n",
    "The `map()` function applies a function to every member of an iterable and returns the result. It takes two parameters: first, the function that is to be applied and secondly, the iterables.\n",
    "\n",
    "Let's say you are given a list of names, and you have to print a list that contains the length of each name.\n",
    "\n",
    "`>> print(list(map(len, [\"Tina\", \"Raj\", \"Tom\"])))\n",
    "[4, 3, 3]`\n",
    "\n",
    "Lambda is a single expression anonymous function often used as an inline function. In simple words, it is a function that has only one line in its body. It proves very handy in functional and GUI programming.\n",
    "\n",
    "`>> sum = lambda a, b, c: a + b + c\n",
    " sum(1, 2, 3)\n",
    " 6`\n",
    " \n",
    "**Note:**\n",
    "\n",
    "Lambda funcitons cannot use the return statement and can only have a single expression. Unlike `def`, which creates a function and assigns it a name, lambda expressions create a function and return the function itself. Lambda can be used inside lists and dictionaries.\n",
    "\n",
    "**Input Format**\n",
    "\n",
    "One line of input, an integer $N$.\n",
    "\n",
    "**Constraints**\n",
    "\n",
    "$0 \\le N \\le 15$\n",
    "\n",
    "**Output Format**\n",
    "\n",
    "A list on a single line containing the cubes of the first $N$ fibonacci numbers.\n",
    "\n",
    "**Sample Input**\n",
    "\n",
    "`5`\n",
    "\n",
    "**Sample Output**\n",
    "\n",
    "`[0, 1, 1, 8, 27]`\n",
    "\n",
    "**Explanation**\n",
    "\n",
    "The first $5$ fibonacci numbers are $[0,1,1,2,3]$ and their cubes are $[0,1,1,8,27]$."
   ]
  },
  {
   "cell_type": "code",
   "execution_count": 8,
   "metadata": {},
   "outputs": [
    {
     "name": "stdout",
     "output_type": "stream",
     "text": [
      "[]\n"
     ]
    }
   ],
   "source": [
    "# First, make the cubed function\n",
    "cubed = lambda x: x**3\n",
    "\n",
    "# Second, create the fibonacci function\n",
    "\n",
    "def fibonacci(N):\n",
    "    init = [0, 1] # Initial values\n",
    "    for i in range(2, N):\n",
    "        init.append(init[i-2] + init[i-1]) # standard fibonacci function\n",
    "    return init[0:N] # return the list values from 0 to n\n",
    "\n",
    "fibonacci(5)\n",
    "\n",
    "# Next, apply our cube function to the list:\n",
    "\n",
    "print(list(map(cubed, fibonacci(0))))"
   ]
  }
 ],
 "metadata": {
  "kernelspec": {
   "display_name": "Python 3",
   "language": "python",
   "name": "python3"
  },
  "language_info": {
   "codemirror_mode": {
    "name": "ipython",
    "version": 3
   },
   "file_extension": ".py",
   "mimetype": "text/x-python",
   "name": "python",
   "nbconvert_exporter": "python",
   "pygments_lexer": "ipython3",
   "version": "3.7.7"
  },
  "toc": {
   "base_numbering": 1,
   "nav_menu": {},
   "number_sections": true,
   "sideBar": true,
   "skip_h1_title": false,
   "title_cell": "Table of Contents",
   "title_sidebar": "Contents",
   "toc_cell": true,
   "toc_position": {},
   "toc_section_display": true,
   "toc_window_display": false
  }
 },
 "nbformat": 4,
 "nbformat_minor": 4
}
