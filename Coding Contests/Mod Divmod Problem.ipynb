{
 "cells": [
  {
   "cell_type": "markdown",
   "metadata": {
    "toc": true
   },
   "source": [
    "<h1>Table of Contents<span class=\"tocSkip\"></span></h1>\n",
    "<div class=\"toc\"><ul class=\"toc-item\"></ul></div>"
   ]
  },
  {
   "cell_type": "markdown",
   "metadata": {},
   "source": [
    "One of the built-in functions of Python is divmod, which takes two arguments $a$ and $b$ and returns a tuple containing the quotient of $a/b$ first and then the remainder $a$.\n",
    "\n",
    "For example:\n",
    "\n",
    "`divmod(177, 10)\n",
    "(17, 7)`\n",
    "\n",
    "Here, the integer division is `177/10 => 17` and the modulo operator is `177%10 => 7`.\n",
    "\n",
    "**Task**\n",
    "\n",
    "Read in two integers, $a$, and $b$, and print three lines.\n",
    "\n",
    "The first line is the integer division $a//b$.\n",
    "\n",
    "The second line is the result of the modulo operator: $a$%b$.\n",
    "\n",
    "The third line prints the divmod of $a$ and $b$.\n",
    "\n",
    "**Input Format**\n",
    "\n",
    "The first line contains the first integer, $a$, and the second line contains the second integer, $b$.\n",
    "\n",
    "**Output Format**\n",
    "\n",
    "Print the result as described above.\n",
    "\n",
    "**Sample Input**\n",
    "\n",
    "`177\n",
    "10`\n",
    "\n",
    "**Sample Output**\n",
    "\n",
    "`17\n",
    " 7\n",
    " (17, 7)`\n"
   ]
  },
  {
   "cell_type": "code",
   "execution_count": 2,
   "metadata": {},
   "outputs": [
    {
     "name": "stdout",
     "output_type": "stream",
     "text": [
      "17\n",
      "7\n",
      "(17, 7)\n"
     ]
    }
   ],
   "source": [
    "def divMod(a, b):\n",
    "    print(a//b)\n",
    "    print(a%b)\n",
    "    print(divmod(a, b))\n",
    "    \n",
    "divMod(177, 10)"
   ]
  }
 ],
 "metadata": {
  "kernelspec": {
   "display_name": "Python 3",
   "language": "python",
   "name": "python3"
  },
  "language_info": {
   "codemirror_mode": {
    "name": "ipython",
    "version": 3
   },
   "file_extension": ".py",
   "mimetype": "text/x-python",
   "name": "python",
   "nbconvert_exporter": "python",
   "pygments_lexer": "ipython3",
   "version": "3.7.7"
  },
  "toc": {
   "base_numbering": 1,
   "nav_menu": {},
   "number_sections": true,
   "sideBar": true,
   "skip_h1_title": false,
   "title_cell": "Table of Contents",
   "title_sidebar": "Contents",
   "toc_cell": true,
   "toc_position": {},
   "toc_section_display": true,
   "toc_window_display": false
  }
 },
 "nbformat": 4,
 "nbformat_minor": 4
}
