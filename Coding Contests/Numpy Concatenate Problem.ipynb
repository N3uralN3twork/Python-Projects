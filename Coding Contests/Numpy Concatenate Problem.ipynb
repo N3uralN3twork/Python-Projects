{
 "cells": [
  {
   "cell_type": "markdown",
   "metadata": {
    "toc": true
   },
   "source": [
    "<h1>Table of Contents<span class=\"tocSkip\"></span></h1>\n",
    "<div class=\"toc\"><ul class=\"toc-item\"></ul></div>"
   ]
  },
  {
   "cell_type": "markdown",
   "metadata": {},
   "source": [
    "**Concatenate**\n",
    "\n",
    "Two or more arrays can be concatenated together using the concatenate function with a tuple of the arrays to be joined:\n",
    "\n",
    "    `import numpy\n",
    "\n",
    "    array_1 = numpy.array([1,2,3])\n",
    "    array_2 = numpy.array([4,5,6])\n",
    "    array_3 = numpy.array([7,8,9])\n",
    "\n",
    "    print numpy.concatenate((array_1, array_2, array_3))    \n",
    "\n",
    "    #Output\n",
    "    [1 2 3 4 5 6 7 8 9]`\n",
    "\n",
    "If an array has more than one dimension, it is possible to specify the axis along which multiple arrays are concatenated. By default, it is along the first dimension.\n",
    "\n",
    "    `import numpy\n",
    "\n",
    "    array_1 = numpy.array([[1,2,3],[0,0,0]])\n",
    "    array_2 = numpy.array([[0,0,0],[7,8,9]])\n",
    "\n",
    "    print numpy.concatenate((array_1, array_2), axis = 1)   \n",
    "\n",
    "    #Output\n",
    "    [[1 2 3 0 0 0]\n",
    "     [0 0 0 7 8 9]]`   \n",
    "\n",
    "**Task**\n",
    "\n",
    "You are given two integer arrays of size X and X ( &  are rows, and  is the column). Your task is to concatenate the arrays along axis .\n",
    "\n",
    "**Input Format**\n",
    "\n",
    "The first line contains space separated integers ,  and .\n",
    "The next  lines contains the space separated elements of the  columns.\n",
    "After that, the next  lines contains the space separated elements of the  columns.\n",
    "\n",
    "**Output Format**\n",
    "\n",
    "Print the concatenated array of size $(N+M)xP$.\n",
    "\n",
    "**Sample Input**\n",
    "\n",
    "`4 3 2 \n",
    " 1 2\n",
    " 1 2\n",
    " 1 2\n",
    " 1 2\n",
    " 3 4\n",
    " 3 4\n",
    " 3 4`"
   ]
  },
  {
   "cell_type": "code",
   "execution_count": 4,
   "metadata": {},
   "outputs": [
    {
     "name": "stdout",
     "output_type": "stream",
     "text": [
      "4 3 2\n",
      "12\n",
      "12\n",
      "12\n",
      "12\n",
      "34\n",
      "34\n",
      "34\n",
      "[[12]\n",
      " [12]\n",
      " [12]\n",
      " [12]\n",
      " [34]\n",
      " [34]\n",
      " [34]]\n"
     ]
    }
   ],
   "source": [
    "import numpy as np\n",
    "a, b, c = map(int,input().split())\n",
    "arrA = np.array([input().split() for _ in range(a)],int)\n",
    "arrB = np.array([input().split() for _ in range(b)],int)\n",
    "print(np.concatenate((arrA, arrB), axis = 0), sep=\" \")"
   ]
  }
 ],
 "metadata": {
  "kernelspec": {
   "display_name": "Python 3",
   "language": "python",
   "name": "python3"
  },
  "language_info": {
   "codemirror_mode": {
    "name": "ipython",
    "version": 3
   },
   "file_extension": ".py",
   "mimetype": "text/x-python",
   "name": "python",
   "nbconvert_exporter": "python",
   "pygments_lexer": "ipython3",
   "version": "3.7.7"
  },
  "toc": {
   "base_numbering": 1,
   "nav_menu": {},
   "number_sections": true,
   "sideBar": true,
   "skip_h1_title": false,
   "title_cell": "Table of Contents",
   "title_sidebar": "Contents",
   "toc_cell": true,
   "toc_position": {},
   "toc_section_display": true,
   "toc_window_display": false
  }
 },
 "nbformat": 4,
 "nbformat_minor": 4
}
