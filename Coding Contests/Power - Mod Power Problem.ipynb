{
 "cells": [
  {
   "cell_type": "markdown",
   "metadata": {
    "toc": true
   },
   "source": [
    "<h1>Table of Contents<span class=\"tocSkip\"></span></h1>\n",
    "<div class=\"toc\"><ul class=\"toc-item\"></ul></div>"
   ]
  },
  {
   "cell_type": "markdown",
   "metadata": {},
   "source": [
    "[Source](https://www.hackerrank.com/challenges/python-power-mod-power/problem)\n",
    "\n",
    "So far, we have only heard of Python's powers. Now, we will witness them!\n",
    "Powers or exponents in Python canbe calculated using the built-in power function. Call the power function $a^{b}$ as shown below:\n",
    "\n",
    "`pow(a, b)`\n",
    "\n",
    "or \n",
    "\n",
    "`a**b`\n",
    "\n",
    "It's also possible to calculate $a^{b}mod$ $m$.\n",
    "`pow(a, b, m)`\n",
    "\n",
    "This is very helpful in computations where you have to print the resultant % mod.\n",
    "\n",
    "**Note:** Here, $a$, and $b$ can be floats or negatives, but, if a third argument is present, $b$ cannot be negative.\n",
    "\n",
    "**Note:** Python has a math module that has its own pow(). It takes two arguments and returns a float. Frankly speaking, we will never use math.pow().\n",
    "\n",
    "**Task**\n",
    "\n",
    "You are given three integers: $a$, $b$, and $m$, respectively. Print two lines. The first line should print the result of pow(a,b). The second line should print the result of pow(a,b,m).\n",
    "\n",
    "**Input Format**\n",
    "\n",
    "The first line contains $a$, the second line contains $b$, and the third line contains $m$.\n",
    "\n",
    "**Constraints**\n",
    "\n",
    "$1 \\le a \\le 10$\n",
    "\n",
    "$1 \\le b \\le 10$\n",
    "\n",
    "$2 \\le m \\le 1000$\n",
    "\n",
    "**Sample Input**\n",
    "\n",
    "`3\n",
    " 4\n",
    " 5`\n",
    "\n",
    "**Sample Output**\n",
    "\n",
    "`81\n",
    " 1`"
   ]
  },
  {
   "cell_type": "code",
   "execution_count": 1,
   "metadata": {},
   "outputs": [
    {
     "name": "stdout",
     "output_type": "stream",
     "text": [
      "81\n",
      "1\n"
     ]
    }
   ],
   "source": [
    "def modPower(a, b, m):\n",
    "    print(a**b)\n",
    "    print(a**b%m) # a^b mod m\n",
    "\n",
    "modPower(3, 4, 5)"
   ]
  }
 ],
 "metadata": {
  "kernelspec": {
   "display_name": "Python 3",
   "language": "python",
   "name": "python3"
  },
  "language_info": {
   "codemirror_mode": {
    "name": "ipython",
    "version": 3
   },
   "file_extension": ".py",
   "mimetype": "text/x-python",
   "name": "python",
   "nbconvert_exporter": "python",
   "pygments_lexer": "ipython3",
   "version": "3.7.7"
  },
  "toc": {
   "base_numbering": 1,
   "nav_menu": {},
   "number_sections": true,
   "sideBar": true,
   "skip_h1_title": false,
   "title_cell": "Table of Contents",
   "title_sidebar": "Contents",
   "toc_cell": true,
   "toc_position": {},
   "toc_section_display": true,
   "toc_window_display": false
  }
 },
 "nbformat": 4,
 "nbformat_minor": 4
}
