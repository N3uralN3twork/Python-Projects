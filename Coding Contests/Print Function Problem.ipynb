{
 "cells": [
  {
   "cell_type": "markdown",
   "metadata": {
    "toc": true
   },
   "source": [
    "<h1>Table of Contents<span class=\"tocSkip\"></span></h1>\n",
    "<div class=\"toc\"><ul class=\"toc-item\"><li><span><a href=\"#Print-Function:\" data-toc-modified-id=\"Print-Function:-1\"><span class=\"toc-item-num\">1&nbsp;&nbsp;</span>Print Function:</a></span></li></ul></div>"
   ]
  },
  {
   "cell_type": "markdown",
   "metadata": {},
   "source": [
    "# Print Function:\n",
    "\n",
    "Read an integer $N$.\n",
    "\n",
    "Without using any string methods, try to print the following:\n",
    "\n",
    "$123...N$\n",
    "\n",
    "Note that \"...\" represents the values in between.\n",
    "\n",
    "**Input Format**\n",
    "\n",
    "The first line contains an integer $N$.\n",
    "\n",
    "**Output Format**\n",
    "\n",
    "Output the answers as explained in the task.\n",
    "\n",
    "**Sample Input**\n",
    "\n",
    "`3`\n",
    "\n",
    "**Sample Output**\n",
    "\n",
    "`123`"
   ]
  },
  {
   "cell_type": "code",
   "execution_count": 4,
   "metadata": {},
   "outputs": [
    {
     "name": "stdout",
     "output_type": "stream",
     "text": [
      "123"
     ]
    }
   ],
   "source": [
    "def nums(N):\n",
    "    for i in range(1, N+1):\n",
    "        print(i, end=\"\") # end=\"\" ends the statement on the same line\n",
    "\n",
    "nums(3)"
   ]
  }
 ],
 "metadata": {
  "kernelspec": {
   "display_name": "Python 3",
   "language": "python",
   "name": "python3"
  },
  "language_info": {
   "codemirror_mode": {
    "name": "ipython",
    "version": 3
   },
   "file_extension": ".py",
   "mimetype": "text/x-python",
   "name": "python",
   "nbconvert_exporter": "python",
   "pygments_lexer": "ipython3",
   "version": "3.7.7"
  },
  "toc": {
   "base_numbering": 1,
   "nav_menu": {},
   "number_sections": true,
   "sideBar": true,
   "skip_h1_title": false,
   "title_cell": "Table of Contents",
   "title_sidebar": "Contents",
   "toc_cell": true,
   "toc_position": {},
   "toc_section_display": true,
   "toc_window_display": false
  }
 },
 "nbformat": 4,
 "nbformat_minor": 4
}
