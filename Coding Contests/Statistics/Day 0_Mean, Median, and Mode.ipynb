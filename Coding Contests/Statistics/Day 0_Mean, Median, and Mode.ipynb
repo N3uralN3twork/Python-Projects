{
 "cells": [
  {
   "cell_type": "markdown",
   "metadata": {
    "toc": true
   },
   "source": [
    "<h1>Table of Contents<span class=\"tocSkip\"></span></h1>\n",
    "<div class=\"toc\"><ul class=\"toc-item\"></ul></div>"
   ]
  },
  {
   "cell_type": "markdown",
   "metadata": {},
   "source": [
    "[Source](https://www.hackerrank.com/challenges/s10-basic-statistics/problem)\n",
    "\n",
    "**Objective**\n",
    "\n",
    "In this challenge, we practice calculating the mean, median, and mode. Check out the Tutorial tab for learning materials and an instructional video!\n",
    "\n",
    "**Task**\n",
    "\n",
    "Given an array, $X$, of $N$ integers, calculate and print the respective mean, median, and mode on separate lines. If your array contains more than one modal value, choose the numerically smallest one.\n",
    "\n",
    "**Note:** Other than the modal value (which will always be an integer), your answers should be in decimal form, rounded to a scale of $1$ decimal place (i.e., $12.3$, $7.0$ format).\n",
    "\n",
    "**Input Format**\n",
    "\n",
    "The first line contains an integer, $N$, denoting the number of elements in the array.\n",
    "The second line contains $N$ space-separated integers describing the array's elements.\n",
    "\n",
    "**Constraints**\n",
    "\n",
    "* $10 \\le N \\le 2500$\n",
    "\n",
    "* $0 < x_{i} \\le 10^{5}$, where  is the  element of the array.\n",
    "\n",
    "**Output Format**\n",
    "\n",
    "Print $3$ lines of output in the following order:\n",
    "\n",
    "1. Print the mean on a new line, to a scale of $1$ decimal place (i.e.,$12.3$, $7.0$).\n",
    "\n",
    "2. Print the median on a new line, to a scale of $1$ decimal place (i.e.,$12.3$, $7.0$).\n",
    "\n",
    "3. Print the mode on a new line; if more than one such value exists, print the numerically smallest one.\n",
    "\n",
    "**Sample Input**\n",
    "\n",
    "`10\n",
    "64630 11735 14216 99233 14470 4978 73429 38120 51135 67060`\n",
    "\n",
    "**Sample Output**\n",
    "\n",
    "`43900.6\n",
    " 44627.5\n",
    " 4978`"
   ]
  },
  {
   "cell_type": "code",
   "execution_count": 8,
   "metadata": {},
   "outputs": [
    {
     "name": "stdout",
     "output_type": "stream",
     "text": [
      "9\n",
      "64630 11735 14216 99233 14470 4978 73429 38120 51135 67060\n",
      "43900.6\n",
      "44627.5\n",
      "4978\n"
     ]
    }
   ],
   "source": [
    "import numpy as np\n",
    "from scipy import stats\n",
    "\n",
    "# Use map to input the numbers\n",
    "\n",
    "def meanMedianMode():\n",
    "    size = int(input())\n",
    "    array = list(map(int, input().split())) # Accept list of numbers\n",
    "    array = np.array(array) # Turn into an array first\n",
    "    Mean = np.mean(array)\n",
    "    Median = np.median(array)\n",
    "    Mode = stats.mode(array)\n",
    "    print(Mean)\n",
    "    print(Median)\n",
    "    print(int(Mode[0]))\n",
    "    \n",
    "meanMedianMode()"
   ]
  }
 ],
 "metadata": {
  "kernelspec": {
   "display_name": "Python 3",
   "language": "python",
   "name": "python3"
  },
  "language_info": {
   "codemirror_mode": {
    "name": "ipython",
    "version": 3
   },
   "file_extension": ".py",
   "mimetype": "text/x-python",
   "name": "python",
   "nbconvert_exporter": "python",
   "pygments_lexer": "ipython3",
   "version": "3.7.7"
  },
  "toc": {
   "base_numbering": 1,
   "nav_menu": {},
   "number_sections": true,
   "sideBar": true,
   "skip_h1_title": false,
   "title_cell": "Table of Contents",
   "title_sidebar": "Contents",
   "toc_cell": true,
   "toc_position": {},
   "toc_section_display": true,
   "toc_window_display": false
  }
 },
 "nbformat": 4,
 "nbformat_minor": 4
}
