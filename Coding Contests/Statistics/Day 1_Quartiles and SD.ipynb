{
 "cells": [
  {
   "cell_type": "markdown",
   "metadata": {
    "toc": true
   },
   "source": [
    "<h1>Table of Contents<span class=\"tocSkip\"></span></h1>\n",
    "<div class=\"toc\"><ul class=\"toc-item\"><li><span><a href=\"#Quartiles\" data-toc-modified-id=\"Quartiles-1\"><span class=\"toc-item-num\">1&nbsp;&nbsp;</span>Quartiles</a></span></li><li><span><a href=\"#Standard-Deviation\" data-toc-modified-id=\"Standard-Deviation-2\"><span class=\"toc-item-num\">2&nbsp;&nbsp;</span>Standard Deviation</a></span></li></ul></div>"
   ]
  },
  {
   "cell_type": "markdown",
   "metadata": {},
   "source": [
    "## Quartiles\n",
    "\n",
    "[Source](https://www.hackerrank.com/challenges/s10-quartiles/problem)\n",
    "\n",
    "**Objective**\n",
    "\n",
    "In this challenge, we practice calculating quartiles. Check out the Tutorial tab for learning materials and an instructional video!\n",
    "\n",
    "**Task**\n",
    "Given an array, $X$, of $n$ integers, calculate the respective first quartile ($Q_{2}$), second quartile ($Q_{2}$), and third quartile ($Q_{3}$). It is guaranteed that $Q_{1}$, $Q_{2}$, and $Q_{3}$ are integers.\n",
    "\n",
    "**Input Format**\n",
    "\n",
    "The first line contains an integer, , denoting the number of elements in the array.\n",
    "The second line contains  space-separated integers describing the array's elements.\n",
    "\n",
    "**Constraints**\n",
    "\n",
    "* $5 \\le n \\le 50$\n",
    "\n",
    "* $0 < x_{i} \\le 100$, where $x_{i}$ is the $i^{th}$ element of the array.\n",
    "\n",
    "**Output Format**\n",
    "\n",
    "Print $3$ lines of output in the following order:\n",
    "\n",
    "1. The first line should be the value of $Q_{1}$.\n",
    "\n",
    "2. The second line should be the value of $Q_{2}.\n",
    "\n",
    "3. The third line should be the value of$Q_{3}$.\n",
    "\n",
    "**Sample Input**\n",
    "\n",
    "`9\n",
    "3 7 8 5 12 14 21 13 18`\n",
    "\n",
    "**Sample Output**\n",
    "\n",
    "`6\n",
    "12\n",
    "16`"
   ]
  },
  {
   "cell_type": "code",
   "execution_count": 3,
   "metadata": {},
   "outputs": [
    {
     "name": "stdout",
     "output_type": "stream",
     "text": [
      "64630 11735 14216 99233 14470 4978 73429 38120 51135 67060\n",
      "14279.5\n",
      "44627.5\n",
      "66452.5\n"
     ]
    }
   ],
   "source": [
    "import numpy as np\n",
    "\n",
    "# You'll have to use list comprehension or map here.\n",
    "def quartiles():\n",
    "    array = list(map(int, input().split()))\n",
    "    array = np.array(array)\n",
    "    Q1 = np.quantile(array, q=0.25)\n",
    "    Q2 = np.quantile(array, q=0.50)\n",
    "    Q3 = np.quantile(array, q=0.75)\n",
    "    print(Q1)\n",
    "    print(Q2)\n",
    "    print(Q3)\n",
    "\n",
    "quartiles()"
   ]
  },
  {
   "cell_type": "markdown",
   "metadata": {},
   "source": [
    "## Standard Deviation\n",
    "\n",
    "[Source](https://www.hackerrank.com/challenges/s10-standard-deviation/problem)\n",
    "\n",
    "**Objective**\n",
    "\n",
    "In this challenge, we practice calculating standard deviation. Check out the Tutorial tab for learning materials and an instructional video!\n",
    "\n",
    "**Task**\n",
    "\n",
    "Given an array,$X$, of $N$ integers, calculate and print the standard deviation. Your answer should be in decimal form, rounded to a scale of  decimal $1$ place (i.e., $12.3$ format). An error margin of $\\pm 0.1$ will be tolerated for the standard deviation.\n",
    "\n",
    "**Input Format**\n",
    "\n",
    "The first line contains an integer, $N$, denoting the number of elements in the array.\n",
    "\n",
    "The second line contains $N$ space-separated integers describing the respective elements of the array.\n",
    "\n",
    "**Constraints**\n",
    "\n",
    "* $5 \\le N \\le 100$\n",
    "\n",
    "* $0 < x_{i} \\le 10^{5}$, where $x_{i}$ is the $i^{th}$ element of array $X$.\n",
    "\n",
    "**Output Format**\n",
    "\n",
    "Print the standard deviation on a new line, rounded to a scale of $1$ decimal place (i.e., $12.3$ format).\n",
    "\n",
    "**Sample Input**\n",
    "\n",
    "`5\n",
    "10 40 30 50 20`\n",
    "\n",
    "**Sample Output**\n",
    "\n",
    "`14.1`"
   ]
  },
  {
   "cell_type": "code",
   "execution_count": 4,
   "metadata": {},
   "outputs": [
    {
     "name": "stdout",
     "output_type": "stream",
     "text": [
      "14.1\n"
     ]
    }
   ],
   "source": [
    "def sd(array):\n",
    "    import numpy as np\n",
    "    print(np.around(np.std(array), 1))\n",
    "    \n",
    "sd([10, 40, 30, 50, 20])"
   ]
  }
 ],
 "metadata": {
  "kernelspec": {
   "display_name": "Python 3",
   "language": "python",
   "name": "python3"
  },
  "language_info": {
   "codemirror_mode": {
    "name": "ipython",
    "version": 3
   },
   "file_extension": ".py",
   "mimetype": "text/x-python",
   "name": "python",
   "nbconvert_exporter": "python",
   "pygments_lexer": "ipython3",
   "version": "3.7.7"
  },
  "toc": {
   "base_numbering": 1,
   "nav_menu": {},
   "number_sections": true,
   "sideBar": true,
   "skip_h1_title": false,
   "title_cell": "Table of Contents",
   "title_sidebar": "Contents",
   "toc_cell": true,
   "toc_position": {},
   "toc_section_display": true,
   "toc_window_display": false
  }
 },
 "nbformat": 4,
 "nbformat_minor": 4
}
