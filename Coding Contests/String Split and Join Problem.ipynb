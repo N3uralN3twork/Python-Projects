{
 "cells": [
  {
   "cell_type": "markdown",
   "metadata": {
    "toc": true
   },
   "source": [
    "<h1>Table of Contents<span class=\"tocSkip\"></span></h1>\n",
    "<div class=\"toc\"><ul class=\"toc-item\"><li><span><a href=\"#String-Split-and-Join\" data-toc-modified-id=\"String-Split-and-Join-1\"><span class=\"toc-item-num\">1&nbsp;&nbsp;</span>String Split and Join</a></span></li></ul></div>"
   ]
  },
  {
   "cell_type": "markdown",
   "metadata": {},
   "source": [
    "# String Split and Join\n",
    "\n",
    "[Source](https://www.hackerrank.com/challenges/python-string-split-and-join/problem)\n",
    "\n",
    "In Python, a string can be split on a delimiter.\n",
    "\n",
    "**Task**\n",
    "\n",
    "You are given a string. Split the string on a \" \" (space) delimiter and join using a - hyphen.\n",
    "\n",
    "**Input Format**\n",
    "\n",
    "The first line contains a string consisting of space separated words.\n",
    "\n",
    "**Output Format**\n",
    "\n",
    "Print the formatted string as explained above.\n",
    "\n",
    "**Sample Input**\n",
    "\n",
    "`this is a string`\n",
    "\n",
    "**Sample Output**\n",
    "\n",
    "`this-is-a-string`"
   ]
  },
  {
   "cell_type": "code",
   "execution_count": 1,
   "metadata": {},
   "outputs": [
    {
     "data": {
      "text/plain": [
       "'this-is-a-string'"
      ]
     },
     "execution_count": 1,
     "metadata": {},
     "output_type": "execute_result"
    }
   ],
   "source": [
    "def split_and_join(text: str):\n",
    "    text = text.split() # Split the string into a list of parts\n",
    "    return \"-\".join(text) # Join via a hyphen\n",
    "\n",
    "split_and_join(\"this is a string\")"
   ]
  }
 ],
 "metadata": {
  "kernelspec": {
   "display_name": "Python 3",
   "language": "python",
   "name": "python3"
  },
  "language_info": {
   "codemirror_mode": {
    "name": "ipython",
    "version": 3
   },
   "file_extension": ".py",
   "mimetype": "text/x-python",
   "name": "python",
   "nbconvert_exporter": "python",
   "pygments_lexer": "ipython3",
   "version": "3.7.7"
  },
  "toc": {
   "base_numbering": 1,
   "nav_menu": {},
   "number_sections": true,
   "sideBar": true,
   "skip_h1_title": false,
   "title_cell": "Table of Contents",
   "title_sidebar": "Contents",
   "toc_cell": true,
   "toc_position": {},
   "toc_section_display": true,
   "toc_window_display": false
  }
 },
 "nbformat": 4,
 "nbformat_minor": 4
}
