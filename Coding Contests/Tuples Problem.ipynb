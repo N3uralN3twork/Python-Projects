{
 "cells": [
  {
   "cell_type": "markdown",
   "metadata": {
    "toc": true
   },
   "source": [
    "<h1>Table of Contents<span class=\"tocSkip\"></span></h1>\n",
    "<div class=\"toc\"><ul class=\"toc-item\"></ul></div>"
   ]
  },
  {
   "cell_type": "markdown",
   "metadata": {},
   "source": [
    "[Source](https://www.hackerrank.com/challenges/python-tuples/problem)\n",
    "\n",
    "**Task**\n",
    "\n",
    "Given an integer, $n$, and $n$ space-separated integers as input, create a tuple, $t$, of those $n$ integers. Then compute and print the result of $hash(t)$.\n",
    "\n",
    "**Note:**\n",
    "\n",
    "`hash()` is one of the functions in the `__builtins__` module, so it need not be imported.\n",
    "\n",
    "\n",
    "**Input Format**\n",
    "\n",
    "The first line contains an integer, $n$, denoting the number of elements in the tuple.\n",
    "\n",
    "The second line contains $n$ space-separated integers describing the elements in tuple $t$.\n",
    "\n",
    "**Output Format**\n",
    "\n",
    "Print the result of $hash(t)$.\n",
    "\n",
    "**Sample Input**\n",
    "\n",
    "`2\n",
    " 1 2`\n",
    " \n",
    " **Sample Output**\n",
    " \n",
    " `3713081631934410656`"
   ]
  },
  {
   "cell_type": "code",
   "execution_count": null,
   "metadata": {},
   "outputs": [],
   "source": []
  }
 ],
 "metadata": {
  "kernelspec": {
   "display_name": "Python 3",
   "language": "python",
   "name": "python3"
  },
  "language_info": {
   "codemirror_mode": {
    "name": "ipython",
    "version": 3
   },
   "file_extension": ".py",
   "mimetype": "text/x-python",
   "name": "python",
   "nbconvert_exporter": "python",
   "pygments_lexer": "ipython3",
   "version": "3.7.7"
  },
  "toc": {
   "base_numbering": 1,
   "nav_menu": {},
   "number_sections": true,
   "sideBar": true,
   "skip_h1_title": false,
   "title_cell": "Table of Contents",
   "title_sidebar": "Contents",
   "toc_cell": true,
   "toc_position": {},
   "toc_section_display": true,
   "toc_window_display": false
  }
 },
 "nbformat": 4,
 "nbformat_minor": 4
}
