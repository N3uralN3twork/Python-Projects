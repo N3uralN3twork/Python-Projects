{
 "cells": [
  {
   "cell_type": "markdown",
   "metadata": {
    "toc": true
   },
   "source": [
    "<h1>Table of Contents<span class=\"tocSkip\"></span></h1>\n",
    "<div class=\"toc\"><ul class=\"toc-item\"><li><span><a href=\"#What's-Your-Name?\" data-toc-modified-id=\"What's-Your-Name?-1\"><span class=\"toc-item-num\">1&nbsp;&nbsp;</span>What's Your Name?</a></span></li></ul></div>"
   ]
  },
  {
   "cell_type": "markdown",
   "metadata": {},
   "source": [
    "# What's Your Name?\n",
    "\n",
    "[Source](https://www.hackerrank.com/challenges/whats-your-name/problem?h_r=next-challenge&h_v=zen)\n",
    "\n",
    "You are given the firstname and the lastname of a person on two different lines. Your task is to read them and print the following:\n",
    "\n",
    "`Hello firstname lastname! You just delved into Python.`\n",
    "\n",
    "**Input Format**\n",
    "\n",
    "The first line contains the first name, and the second line contains the last name.\n",
    "\n",
    "**Constraints**\n",
    "\n",
    "The length of the first and last name $\\le 10$\n",
    "\n",
    "**Output Format**\n",
    "\n",
    "Print the output as mentioned above.\n",
    "\n",
    "**Sample Input**\n",
    "\n",
    "`Ross\n",
    " Taylor`\n",
    " \n",
    "**Sample Output**\n",
    "\n",
    "`Hello Ross Taylor! You just delved into Python.`"
   ]
  },
  {
   "cell_type": "code",
   "execution_count": 3,
   "metadata": {},
   "outputs": [
    {
     "name": "stdout",
     "output_type": "stream",
     "text": [
      "Hello Ross Taylor! You just delved into Python.\n"
     ]
    }
   ],
   "source": [
    "def welcome(firstName, lastName):\n",
    "    print(f\"Hello {firstName} {lastName}! You just delved into Python.\")\n",
    "\n",
    "welcome(\"Ross\", \"Taylor\")"
   ]
  }
 ],
 "metadata": {
  "kernelspec": {
   "display_name": "Python 3",
   "language": "python",
   "name": "python3"
  },
  "language_info": {
   "codemirror_mode": {
    "name": "ipython",
    "version": 3
   },
   "file_extension": ".py",
   "mimetype": "text/x-python",
   "name": "python",
   "nbconvert_exporter": "python",
   "pygments_lexer": "ipython3",
   "version": "3.7.7"
  },
  "toc": {
   "base_numbering": 1,
   "nav_menu": {},
   "number_sections": true,
   "sideBar": true,
   "skip_h1_title": false,
   "title_cell": "Table of Contents",
   "title_sidebar": "Contents",
   "toc_cell": true,
   "toc_position": {},
   "toc_section_display": true,
   "toc_window_display": false
  }
 },
 "nbformat": 4,
 "nbformat_minor": 4
}
