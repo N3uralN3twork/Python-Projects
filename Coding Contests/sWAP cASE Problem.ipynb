{
 "cells": [
  {
   "cell_type": "markdown",
   "metadata": {
    "toc": true
   },
   "source": [
    "<h1>Table of Contents<span class=\"tocSkip\"></span></h1>\n",
    "<div class=\"toc\"><ul class=\"toc-item\"></ul></div>"
   ]
  },
  {
   "cell_type": "markdown",
   "metadata": {},
   "source": [
    "[Source](https://www.hackerrank.com/challenges/swap-case/forum)\n",
    "\n",
    "You are given a string and your task is to swap cases. In other words, convert all lowercase letters to uppercase letters and vice versa.\n",
    "\n",
    "**For Example:**\n",
    "\n",
    "`www.HackerRank.com => WWW.hACKERrANK.COM\n",
    "Pythonist 2 => pYTHONIST 2`\n",
    "\n",
    "**Input Format**\n",
    "\n",
    "A single line containing a string $S$.\n",
    "\n",
    "**Constraints**\n",
    "\n",
    "$0 < len(S) \\le 1000$\n",
    "\n",
    "**Output Format**\n",
    "\n",
    "Print the modified string $S$.\n",
    "\n",
    "**Sample Input**\n",
    "\n",
    "`HackerRank.com presents \"Pythonist 2\".`\n",
    "\n",
    "**Sample Output**\n",
    "\n",
    "`hACKERrANK.COM PRESENTS \"pYTHONIST 2\"."
   ]
  },
  {
   "cell_type": "code",
   "execution_count": 2,
   "metadata": {},
   "outputs": [
    {
     "name": "stdout",
     "output_type": "stream",
     "text": [
      "HackerRank.com presents \"Pythonist 2\".\n"
     ]
    },
    {
     "data": {
      "text/plain": [
       "'hACKERrANK.COM PRESENTS \"pYTHONIST 2\".'"
      ]
     },
     "execution_count": 2,
     "metadata": {},
     "output_type": "execute_result"
    }
   ],
   "source": [
    "# Uses list comprehension\n",
    "''.join([i.lower() if i.isupper() else i.upper() for i in input()])"
   ]
  },
  {
   "cell_type": "code",
   "execution_count": 3,
   "metadata": {},
   "outputs": [
    {
     "data": {
      "text/plain": [
       "['Hello', 'world']"
      ]
     },
     "execution_count": 3,
     "metadata": {},
     "output_type": "execute_result"
    }
   ],
   "source": [
    "def swap_case(string):\n",
    "    string = list(string)\n",
    "    for word in string:\n",
    "        if word.isupper\n",
    "    return string\n",
    "\n",
    "swap_case(\"Hello world\")"
   ]
  }
 ],
 "metadata": {
  "kernelspec": {
   "display_name": "Python 3",
   "language": "python",
   "name": "python3"
  },
  "language_info": {
   "codemirror_mode": {
    "name": "ipython",
    "version": 3
   },
   "file_extension": ".py",
   "mimetype": "text/x-python",
   "name": "python",
   "nbconvert_exporter": "python",
   "pygments_lexer": "ipython3",
   "version": "3.7.7"
  },
  "toc": {
   "base_numbering": 1,
   "nav_menu": {},
   "number_sections": true,
   "sideBar": true,
   "skip_h1_title": false,
   "title_cell": "Table of Contents",
   "title_sidebar": "Contents",
   "toc_cell": true,
   "toc_position": {},
   "toc_section_display": true,
   "toc_window_display": false
  }
 },
 "nbformat": 4,
 "nbformat_minor": 4
}
