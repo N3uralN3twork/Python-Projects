{
 "cells": [
  {
   "cell_type": "markdown",
   "metadata": {
    "toc": true
   },
   "source": [
    "<h1>Table of Contents<span class=\"tocSkip\"></span></h1>\n",
    "<div class=\"toc\"><ul class=\"toc-item\"><li><span><a href=\"#Chapter-10-Lists\" data-toc-modified-id=\"Chapter-10-Lists-1\"><span class=\"toc-item-num\">1&nbsp;&nbsp;</span>Chapter 10 Lists</a></span><ul class=\"toc-item\"><li><ul class=\"toc-item\"><li><span><a href=\"#10.1-Using-Lists\" data-toc-modified-id=\"10.1-Using-Lists-1.0.1\"><span class=\"toc-item-num\">1.0.1&nbsp;&nbsp;</span>10.1 Using Lists</a></span></li><li><span><a href=\"#10.2-List-Traversal\" data-toc-modified-id=\"10.2-List-Traversal-1.0.2\"><span class=\"toc-item-num\">1.0.2&nbsp;&nbsp;</span>10.2 List Traversal</a></span></li><li><span><a href=\"#10.3-Building-Lists\" data-toc-modified-id=\"10.3-Building-Lists-1.0.3\"><span class=\"toc-item-num\">1.0.3&nbsp;&nbsp;</span>10.3 Building Lists</a></span></li><li><span><a href=\"#10.4-List-Membership\" data-toc-modified-id=\"10.4-List-Membership-1.0.4\"><span class=\"toc-item-num\">1.0.4&nbsp;&nbsp;</span>10.4 List Membership</a></span></li><li><span><a href=\"#10.5-List-Assignment-and-Equivalence\" data-toc-modified-id=\"10.5-List-Assignment-and-Equivalence-1.0.5\"><span class=\"toc-item-num\">1.0.5&nbsp;&nbsp;</span>10.5 List Assignment and Equivalence</a></span></li><li><span><a href=\"#10.6-List-Bounds\" data-toc-modified-id=\"10.6-List-Bounds-1.0.6\"><span class=\"toc-item-num\">1.0.6&nbsp;&nbsp;</span>10.6 List Bounds</a></span></li><li><span><a href=\"#10.7-Slicing\" data-toc-modified-id=\"10.7-Slicing-1.0.7\"><span class=\"toc-item-num\">1.0.7&nbsp;&nbsp;</span>10.7 Slicing</a></span></li><li><span><a href=\"#10.8-List-Element-Removal\" data-toc-modified-id=\"10.8-List-Element-Removal-1.0.8\"><span class=\"toc-item-num\">1.0.8&nbsp;&nbsp;</span>10.8 List Element Removal</a></span></li><li><span><a href=\"#10.9-Lists-and-Functions\" data-toc-modified-id=\"10.9-Lists-and-Functions-1.0.9\"><span class=\"toc-item-num\">1.0.9&nbsp;&nbsp;</span>10.9 Lists and Functions</a></span></li><li><span><a href=\"#10.10-List-Methods\" data-toc-modified-id=\"10.10-List-Methods-1.0.10\"><span class=\"toc-item-num\">1.0.10&nbsp;&nbsp;</span>10.10 List Methods</a></span></li><li><span><a href=\"#10.13-List-Comprehensions\" data-toc-modified-id=\"10.13-List-Comprehensions-1.0.11\"><span class=\"toc-item-num\">1.0.11&nbsp;&nbsp;</span>10.13 List Comprehensions</a></span></li><li><span><a href=\"#10.14-Multidimensional-Lists\" data-toc-modified-id=\"10.14-Multidimensional-Lists-1.0.12\"><span class=\"toc-item-num\">1.0.12&nbsp;&nbsp;</span>10.14 Multidimensional Lists</a></span></li><li><span><a href=\"#10.15-Summary-of-List-Creation-Techniques\" data-toc-modified-id=\"10.15-Summary-of-List-Creation-Techniques-1.0.13\"><span class=\"toc-item-num\">1.0.13&nbsp;&nbsp;</span>10.15 Summary of List Creation Techniques</a></span></li><li><span><a href=\"#10.16-Lists-vs.-Generators\" data-toc-modified-id=\"10.16-Lists-vs.-Generators-1.0.14\"><span class=\"toc-item-num\">1.0.14&nbsp;&nbsp;</span>10.16 Lists vs. Generators</a></span></li></ul></li></ul></li></ul></div>"
   ]
  },
  {
   "cell_type": "markdown",
   "metadata": {},
   "source": [
    "# Chapter 10 Lists\n"
   ]
  },
  {
   "cell_type": "markdown",
   "metadata": {},
   "source": [
    "Up to this point, we've used variables that represent 1 value at a time.\n",
    "\n",
    "However, in practice, this isn't always helpful. \n",
    "\n",
    "Consider the following example:"
   ]
  },
  {
   "cell_type": "code",
   "execution_count": 2,
   "metadata": {},
   "outputs": [
    {
     "name": "stdout",
     "output_type": "stream",
     "text": [
      "Please enter 5 numbers: \n",
      "Please enter number 1: 1\n",
      "Please enter number 2: 2\n",
      "Please enter number 3: 3\n",
      "Please enter number 4: 4\n",
      "Please enter number 5: 5\n",
      "Numbers entered: 1.0, 2.0, 3.0, 4.0, 5.0\n",
      "Average: 3.0\n"
     ]
    }
   ],
   "source": [
    "def main():\n",
    "    print(\"Please enter 5 numbers: \")\n",
    "    # Begin the inputs\n",
    "    n1 = float(input(\"Please enter number 1: \"))\n",
    "    n2 = float(input(\"Please enter number 2: \"))\n",
    "    n3 = float(input(\"Please enter number 3: \"))\n",
    "    n4 = float(input(\"Please enter number 4: \"))\n",
    "    n5 = float(input(\"Please enter number 5: \"))\n",
    "    print(f\"Numbers entered: {n1}, {n2}, {n3}, {n4}, {n5}\")\n",
    "    print(f\"Average: {(n1+n2+n3+n4+n5)/5}\")\n",
    "main()"
   ]
  },
  {
   "cell_type": "markdown",
   "metadata": {},
   "source": [
    "Suppose the number of values to average must increase from 5 to 25. Using the same method as before, you'd have to introduce 20 additional variables and the length of the program would become unnecessarily long. Now imagine trying to enter 1,000 numbers. Yeah...\n",
    "\n",
    "Let's consider an alternative solution:"
   ]
  },
  {
   "cell_type": "code",
   "execution_count": 13,
   "metadata": {},
   "outputs": [
    {
     "name": "stdout",
     "output_type": "stream",
     "text": [
      "Please enter 5  numbers: \n",
      "Enter number 0: 1\n",
      "Enter number 1: 2\n",
      "Enter number 2: 3\n",
      "Enter number 3: 4\n",
      "Enter number 4: 5\n",
      "Average: 3.0\n"
     ]
    }
   ],
   "source": [
    "def main():\n",
    "    sum = 0.0\n",
    "    n_entries = 5\n",
    "    print(\"Please enter\", n_entries,  \" numbers: \")\n",
    "    for i in range(0, n_entries):\n",
    "        num = float(input(\"Enter number \" + str(i) + \": \"))\n",
    "        sum += num\n",
    "    print(f\"Average: {sum/n_entries}\")\n",
    "main()"
   ]
  },
  {
   "cell_type": "markdown",
   "metadata": {},
   "source": [
    "Now if you wanted to enter 1,000 numbers, you'd only have to change 1 assignment value.\n",
    "\n",
    "Now, what if you want to:\n",
    "\n",
    "* retain individual values, and\n",
    "\n",
    "* the ability to dispense with creating individual variables to store all the individual values\n",
    "\n",
    "The answer lies in a data structure known as: **the list**"
   ]
  },
  {
   "attachments": {
    "image.png": {
     "image/png": "[encoded data removed]"
    }
   },
   "cell_type": "markdown",
   "metadata": {},
   "source": [
    "### 10.1 Using Lists\n",
    "\n",
    "A list is an object that holds a collection of objects; a sequence of data.\n",
    "\n",
    "**A list can hold any Python object**, and the elements don't have to be of the same type!\n",
    "\n",
    "To assign a list, use square brackets: `[]`\n",
    "\n",
    "You can access the elements contained in a list via their position within the list using square brackets, starting at 0 since it begins at the origin. Thus, the last element in a list is at position `a[n-1]`\n",
    "\n",
    "The number within the square brackets is called the *index*. A nonnegative index indicates the distance from the beginning of the list. `a[3]` represents \"sub three\", where index 3 is a subscript.\n",
    "\n",
    "![image.png](attachment:image.png)\n",
    "\n",
    "A negative list index represents a negative offset. So, if `a` contains `n` elements, then `a[0]` corresponds to `a[-n]`. It should be noted that the expression within `[]` must evaluate to an integer.\n",
    "\n",
    "The following presents an example of a list and indexing."
   ]
  },
  {
   "cell_type": "code",
   "execution_count": 14,
   "metadata": {},
   "outputs": [
    {
     "name": "stdout",
     "output_type": "stream",
     "text": [
      "[1, 2, 'Matt', 'Quinn']\n",
      "1\n"
     ]
    }
   ],
   "source": [
    "list = [1, 2, \"Matt\", \"Quinn\"]\n",
    "print(list)\n",
    "print(list[0])"
   ]
  },
  {
   "cell_type": "markdown",
   "metadata": {},
   "source": [
    "### 10.2 List Traversal\n",
    "\n",
    "**Traversal**: the action of moving through a list and visiting each element, usually via a **for** loop.\n",
    "\n",
    "The built-in function `len` returns the number of elements in a list.\n",
    "\n",
    "Example of iteration over a list:"
   ]
  },
  {
   "cell_type": "code",
   "execution_count": 15,
   "metadata": {},
   "outputs": [
    {
     "name": "stdout",
     "output_type": "stream",
     "text": [
      "1\n",
      "2\n",
      "Matt\n",
      "Quinn\n"
     ]
    }
   ],
   "source": [
    "list = [1, 2, \"Matt\", \"Quinn\"]\n",
    "for item in list: # Go through each item in the list \n",
    "    print(item)   # and print the name of the item"
   ]
  },
  {
   "cell_type": "markdown",
   "metadata": {},
   "source": [
    "Now, how would you print a list in reverse order?\n",
    "\n",
    "Using Python's built-in function named `reversed` of course!\n",
    "\n",
    "`reversed` takes a single parameter:\n",
    "\n",
    "* **seq** - the sequence to be reversed\n",
    "\n",
    "A sequence is an object that supports sequence methods like `__len__()` and `__getitem__()`, like tuples, strings, lists, etc."
   ]
  },
  {
   "cell_type": "code",
   "execution_count": 16,
   "metadata": {},
   "outputs": [
    {
     "name": "stdout",
     "output_type": "stream",
     "text": [
      "4\n",
      "3\n",
      "2\n",
      "1\n"
     ]
    }
   ],
   "source": [
    "list = [1,2,3,4]\n",
    "for item in reversed(list):\n",
    "    print(item)"
   ]
  },
  {
   "cell_type": "markdown",
   "metadata": {},
   "source": [
    "### 10.3 Building Lists\n",
    "\n",
    "Python supports several other ways of building lists, like concatenation, via the `+` operator.\n",
    "\n",
    "If you want to append a variable's value to a list, you must first enclose it within square brackets like so:"
   ]
  },
  {
   "cell_type": "code",
   "execution_count": 20,
   "metadata": {},
   "outputs": [
    {
     "name": "stdout",
     "output_type": "stream",
     "text": [
      "[0, 1, 2]\n"
     ]
    }
   ],
   "source": [
    "x = 2\n",
    "a = [0, 1]\n",
    "a = a + [x] # Important part here\n",
    "print(a)"
   ]
  },
  {
   "cell_type": "markdown",
   "metadata": {},
   "source": [
    "### 10.4 List Membership\n",
    "\n",
    "You can use the `in` operator to determine if an object is an element in a list. The expression will evaluate to **True** if the element is in the list; otherwise, the expression is **False**.\n",
    "\n",
    "Similarly, the expression `x not in list` evaluates to **True** if x is not an element in the list; otherwise, the expression is **False**.\n",
    "\n",
    "Let's take a look at the following example:"
   ]
  },
  {
   "cell_type": "code",
   "execution_count": 24,
   "metadata": {},
   "outputs": [
    {
     "name": "stdout",
     "output_type": "stream",
     "text": [
      "False\n"
     ]
    }
   ],
   "source": [
    "list = [1, 2, 3]\n",
    "3 in list"
   ]
  },
  {
   "cell_type": "code",
   "execution_count": 27,
   "metadata": {},
   "outputs": [
    {
     "data": {
      "text/plain": [
       "1"
      ]
     },
     "execution_count": 27,
     "metadata": {},
     "output_type": "execute_result"
    }
   ],
   "source": [
    "# To find the location of an element in the list by index number:\n",
    "list2 = [1, 2, 3, 4]\n",
    "list.index(2) # 1 = Position 2"
   ]
  },
  {
   "cell_type": "code",
   "execution_count": 29,
   "metadata": {},
   "outputs": [
    {
     "data": {
      "text/plain": [
       "False"
      ]
     },
     "execution_count": 29,
     "metadata": {},
     "output_type": "execute_result"
    }
   ],
   "source": [
    "# To determine if two lists are the same:\n",
    "list == list2"
   ]
  },
  {
   "cell_type": "markdown",
   "metadata": {},
   "source": [
    "### 10.5 List Assignment and Equivalence\n",
    "\n",
    "If `a` refers to a list, the statement `b = a` does not make a copy of a's list. Instead, it makes `a` and `b` aliases to the same list. Since lists are mutable data structures, you can reassign individual list elements via `[]`."
   ]
  },
  {
   "cell_type": "markdown",
   "metadata": {},
   "source": [
    "### 10.6 List Bounds\n",
    "\n",
    "When indexing a list, the user must ensure the provided index is in bounds; otherwise, you'll receive an `IndexError`."
   ]
  },
  {
   "attachments": {
    "image.png": {
     "image/png": "[encoded data removed]"
    }
   },
   "cell_type": "markdown",
   "metadata": {},
   "source": [
    "### 10.7 Slicing\n",
    "\n",
    "*Slicing* is a technique that makes a new list from a portion of an existing list.\n",
    "\n",
    "Below is the general form:\n",
    "![image.png](attachment:image.png)\n",
    "where\n",
    "\n",
    "* **list** is a list\n",
    "\n",
    "* **begin** is an integer representing the starting index of a subsequence; the default value is 0.\n",
    "\n",
    "* **end** is an integer that is larger than the index of the last element in a subsequence, what; default is the end of the list.\n",
    "\n",
    "* **step** is an integer that specifies the stride size to go through the list.\n",
    "\n",
    "To copy an entire list using slicing:"
   ]
  },
  {
   "cell_type": "code",
   "execution_count": 41,
   "metadata": {},
   "outputs": [
    {
     "data": {
      "text/plain": [
       "[1, 2, 3, 4]"
      ]
     },
     "execution_count": 41,
     "metadata": {},
     "output_type": "execute_result"
    }
   ],
   "source": [
    "list = [1,2,3,4]\n",
    "list2 = list[:] # Copies all elements of the list\n",
    "list2"
   ]
  },
  {
   "cell_type": "markdown",
   "metadata": {},
   "source": [
    "To reassign certain elements in a list, known as slice assignment:"
   ]
  },
  {
   "cell_type": "code",
   "execution_count": 49,
   "metadata": {},
   "outputs": [
    {
     "name": "stdout",
     "output_type": "stream",
     "text": [
      "[1, 2, -1, -2]\n"
     ]
    }
   ],
   "source": [
    "list[2:4] = [-1, -2]\n",
    "print(list)"
   ]
  },
  {
   "cell_type": "markdown",
   "metadata": {},
   "source": [
    "### 10.8 List Element Removal\n",
    "\n",
    "You can use **del** to remove a specific element from a list via its index.\n",
    "\n",
    "You can also remove a range of elements of a list using `del` with a slice:\n",
    "`del b[5:15]`.\n",
    "\n",
    "You can also delete multiple list elements in one `del` statement, but be careful. It is best to restrict a `del` statement to a single element at a time."
   ]
  },
  {
   "cell_type": "code",
   "execution_count": 6,
   "metadata": {},
   "outputs": [
    {
     "name": "stdout",
     "output_type": "stream",
     "text": [
      "[10, 20, 30, 40, 50]\n"
     ]
    },
    {
     "data": {
      "text/plain": [
       "[10, 20, 40]"
      ]
     },
     "execution_count": 6,
     "metadata": {},
     "output_type": "execute_result"
    }
   ],
   "source": [
    "a = list(range(10, 51, 10))\n",
    "print(a)\n",
    "del a[2], a[3]\n",
    "a"
   ]
  },
  {
   "cell_type": "markdown",
   "metadata": {},
   "source": [
    "### 10.9 Lists and Functions\n",
    "\n",
    "Lists objects are mutable"
   ]
  },
  {
   "cell_type": "code",
   "execution_count": 3,
   "metadata": {},
   "outputs": [
    {
     "data": {
      "text/plain": [
       "[0, 0, 0, 0, 0]"
      ]
     },
     "execution_count": 3,
     "metadata": {},
     "output_type": "execute_result"
    }
   ],
   "source": [
    "list = [1, 2, 3, 4, 5]\n",
    "def zeroes(lst:list):\n",
    "    \"\"\"Makes every element in a list zero\"\"\"\n",
    "    for i in range(len(lst)):\n",
    "        lst[i] = 0\n",
    "zeroes(list)\n",
    "list"
   ]
  },
  {
   "attachments": {
    "image.png": {
     "image/png": "[encoded data removed]"
    }
   },
   "cell_type": "markdown",
   "metadata": {},
   "source": [
    "### 10.10 List Methods\n",
    "\n",
    "All Python lists are instances of the `list` class.\n",
    "\n",
    "Here are some of the things you can do with a list:\n",
    "![image.png](attachment:image.png)"
   ]
  },
  {
   "cell_type": "markdown",
   "metadata": {},
   "source": [
    "### 10.13 List Comprehensions\n",
    "\n",
    "Mathematicians often represent sets in two different ways:\n",
    "\n",
    "1. set roster notation, enumerating the elements in the set\n",
    "\n",
    "2. set builder notation, describes the contents of the set\n",
    "\n",
    "You can express the set of perfect squares less than 50 the same way:\n",
    "\n",
    "1. set roster notation: P = {0, 1, 4, 9, 16, 25, 36, 49}\n",
    "\n",
    "2. set builder notation: P = ${x^{2}|x \\in {0, 1, 2, 3, 4, 5, 6, 7}}$\n",
    "\n",
    "Python offers a technique similar to set builder notation called **list comprehension**.\n",
    "\n",
    "Here's an example of the lists above:"
   ]
  },
  {
   "cell_type": "code",
   "execution_count": 5,
   "metadata": {},
   "outputs": [
    {
     "name": "stdout",
     "output_type": "stream",
     "text": [
      "[0, 1, 4, 9, 16, 25, 36, 49]\n"
     ]
    }
   ],
   "source": [
    "P = [x**2 for x in [0, 1, 2, 3, 4, 5, 6, 7]]\n",
    "print(P)"
   ]
  },
  {
   "cell_type": "markdown",
   "metadata": {},
   "source": [
    "In the code above, the `for` keyword takes the place of $|$ and the `in` keyword is the $\\in$ place. \n",
    "\n",
    "All list comprehensions use `for` within the square brackets, and they all produce a new list."
   ]
  },
  {
   "cell_type": "code",
   "execution_count": 7,
   "metadata": {},
   "outputs": [
    {
     "data": {
      "text/plain": [
       "[(1, 1), (2, 4), (3, 9), (4, 16)]"
      ]
     },
     "execution_count": 7,
     "metadata": {},
     "output_type": "execute_result"
    }
   ],
   "source": [
    "[(x, x**2) for x in [1, 2, 3, 4]]"
   ]
  },
  {
   "cell_type": "markdown",
   "metadata": {},
   "source": [
    "Sometimes it is easier to bild the list without list comprehension, as it can often get messy."
   ]
  },
  {
   "cell_type": "markdown",
   "metadata": {},
   "source": [
    "### 10.14 Multidimensional Lists\n",
    "\n",
    "A list represents a one-dimensional, linear data structure, meaning the results can be displayed with a single line. Thus, it is linear in time in terms of finding an element in a list.\n",
    "\n",
    "Multidimensional lists, or a list of lists, also known as a **matrix**.\n",
    "\n",
    "You can model a matrix like so:"
   ]
  },
  {
   "cell_type": "code",
   "execution_count": 10,
   "metadata": {},
   "outputs": [
    {
     "data": {
      "text/plain": [
       "[[1, 2, 3], [4, 5, 6]]"
      ]
     },
     "execution_count": 10,
     "metadata": {},
     "output_type": "execute_result"
    }
   ],
   "source": [
    "matrix = [[1, 2, 3],\n",
    "          [4, 5, 6]]\n",
    "matrix"
   ]
  },
  {
   "cell_type": "markdown",
   "metadata": {},
   "source": [
    "However, to access certain elements in a matrix, you need two indices; one for the row position and a second for the column position."
   ]
  },
  {
   "cell_type": "code",
   "execution_count": 12,
   "metadata": {},
   "outputs": [
    {
     "data": {
      "text/plain": [
       "5"
      ]
     },
     "execution_count": 12,
     "metadata": {},
     "output_type": "execute_result"
    }
   ],
   "source": [
    "matrix[1][1]"
   ]
  },
  {
   "cell_type": "markdown",
   "metadata": {},
   "source": [
    "### 10.15 Summary of List Creation Techniques\n",
    "\n",
    "* Literal enumeration:\n",
    "    \n",
    "    `L = [1, 2, 3, 4]`\n",
    "   \n",
    "* Piecemeal assembly:\n",
    "\n",
    "    `L = []`\n",
    "    `for i in range(2, 21, 2):`\n",
    "    `L += [i]`\n",
    "\n",
    "* Creation from a generator or `range` expression:\n",
    "\n",
    "    `L = list(range(2, 21, 2))`\n",
    "\n",
    "* List comprehension:\n",
    "\n",
    "    `L = [x for x in range(1, 21) if x%2 == 0]`\n",
    "\n",
    "* Combination of methods with list concatenation:\n",
    "    \n",
    "    `L = list(range(2, 9, 2)) + [1, 2, 3] + [x for x in range(16, 21, 2)]`"
   ]
  },
  {
   "cell_type": "markdown",
   "metadata": {},
   "source": [
    "### 10.16 Lists vs. Generators\n",
    "\n",
    "Both represent a sequence of values.\n",
    "\n",
    "You can iterate over both generators and lists using the `for` statement."
   ]
  },
  {
   "cell_type": "code",
   "execution_count": null,
   "metadata": {},
   "outputs": [],
   "source": []
  },
  {
   "cell_type": "code",
   "execution_count": null,
   "metadata": {},
   "outputs": [],
   "source": []
  },
  {
   "cell_type": "code",
   "execution_count": null,
   "metadata": {},
   "outputs": [],
   "source": []
  },
  {
   "cell_type": "code",
   "execution_count": null,
   "metadata": {},
   "outputs": [],
   "source": []
  },
  {
   "cell_type": "code",
   "execution_count": null,
   "metadata": {},
   "outputs": [],
   "source": []
  },
  {
   "cell_type": "code",
   "execution_count": null,
   "metadata": {},
   "outputs": [],
   "source": []
  },
  {
   "cell_type": "code",
   "execution_count": null,
   "metadata": {},
   "outputs": [],
   "source": []
  },
  {
   "cell_type": "code",
   "execution_count": null,
   "metadata": {},
   "outputs": [],
   "source": []
  },
  {
   "cell_type": "code",
   "execution_count": null,
   "metadata": {},
   "outputs": [],
   "source": []
  },
  {
   "cell_type": "code",
   "execution_count": null,
   "metadata": {},
   "outputs": [],
   "source": []
  },
  {
   "cell_type": "code",
   "execution_count": null,
   "metadata": {},
   "outputs": [],
   "source": []
  },
  {
   "cell_type": "code",
   "execution_count": null,
   "metadata": {},
   "outputs": [],
   "source": []
  },
  {
   "cell_type": "code",
   "execution_count": null,
   "metadata": {},
   "outputs": [],
   "source": []
  }
 ],
 "metadata": {
  "kernelspec": {
   "display_name": "Python 3",
   "language": "python",
   "name": "python3"
  },
  "language_info": {
   "codemirror_mode": {
    "name": "ipython",
    "version": 3
   },
   "file_extension": ".py",
   "mimetype": "text/x-python",
   "name": "python",
   "nbconvert_exporter": "python",
   "pygments_lexer": "ipython3",
   "version": "3.7.7"
  },
  "toc": {
   "base_numbering": 1,
   "nav_menu": {},
   "number_sections": true,
   "sideBar": true,
   "skip_h1_title": false,
   "title_cell": "Table of Contents",
   "title_sidebar": "Contents",
   "toc_cell": true,
   "toc_position": {},
   "toc_section_display": true,
   "toc_window_display": false
  }
 },
 "nbformat": 4,
 "nbformat_minor": 4
}
