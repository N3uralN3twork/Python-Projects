{
 "cells": [
  {
   "cell_type": "markdown",
   "metadata": {
    "toc": true
   },
   "source": [
    "<h1>Table of Contents<span class=\"tocSkip\"></span></h1>\n",
    "<div class=\"toc\"><ul class=\"toc-item\"><li><span><a href=\"#Chapter-7:-Writing-Functions\" data-toc-modified-id=\"Chapter-7:-Writing-Functions-1\"><span class=\"toc-item-num\">1&nbsp;&nbsp;</span>Chapter 7: Writing Functions</a></span></li><li><span><a href=\"#7.1-Function-Basics\" data-toc-modified-id=\"7.1-Function-Basics-2\"><span class=\"toc-item-num\">2&nbsp;&nbsp;</span>7.1 Function Basics</a></span></li><li><span><a href=\"#7.3-Documenting-Functions\" data-toc-modified-id=\"7.3-Documenting-Functions-3\"><span class=\"toc-item-num\">3&nbsp;&nbsp;</span>7.3 Documenting Functions</a></span></li><li><span><a href=\"#7.4-Function-Examples\" data-toc-modified-id=\"7.4-Function-Examples-4\"><span class=\"toc-item-num\">4&nbsp;&nbsp;</span>7.4 Function Examples</a></span></li><li><span><a href=\"#7.5-Refactoring-to-Eliminate-Code-Duplication\" data-toc-modified-id=\"7.5-Refactoring-to-Eliminate-Code-Duplication-5\"><span class=\"toc-item-num\">5&nbsp;&nbsp;</span>7.5 Refactoring to Eliminate Code Duplication</a></span></li><li><span><a href=\"#7.6-Custom-Functions-vs.-Standard-Functions\" data-toc-modified-id=\"7.6-Custom-Functions-vs.-Standard-Functions-6\"><span class=\"toc-item-num\">6&nbsp;&nbsp;</span>7.6 Custom Functions vs. Standard Functions</a></span></li><li><span><a href=\"#7.7-After-school-Learning\" data-toc-modified-id=\"7.7-After-school-Learning-7\"><span class=\"toc-item-num\">7&nbsp;&nbsp;</span>7.7 After-school Learning</a></span><ul class=\"toc-item\"><li><span><a href=\"#Function-arguments-in-Python\" data-toc-modified-id=\"Function-arguments-in-Python-7.1\"><span class=\"toc-item-num\">7.1&nbsp;&nbsp;</span>Function arguments in Python</a></span></li><li><span><a href=\"#Writing-user-defined-functions-in-Python\" data-toc-modified-id=\"Writing-user-defined-functions-in-Python-7.2\"><span class=\"toc-item-num\">7.2&nbsp;&nbsp;</span>Writing user-defined functions in Python</a></span></li></ul></li></ul></div>"
   ]
  },
  {
   "cell_type": "markdown",
   "metadata": {},
   "source": [
    "### Chapter 7: Writing Functions\n",
    "\n",
    "The trick to good functions is to break down complex problems into manageable pieces.\n",
    "\n",
    "As the number of statements within our block of code increases, the code becomes more difficult to manage and maintain.\n",
    "\n",
    "One method of use is called *functional decomposition*, or the process of using a divide and conquer strategy to tackle complex problems."
   ]
  },
  {
   "attachments": {
    "image.png": {
     "image/png": "[encoded data removed]"
    }
   },
   "cell_type": "markdown",
   "metadata": {},
   "source": [
    "### 7.1 Function Basics\n",
    "\n",
    "The two aspects to every Python function:\n",
    "    \n",
    "   **Function definition**: contains the code that determines the functions behavior\n",
    "   \n",
    "   **Function invocation**: when a function is used\n",
    "\n",
    "Every function has one definition, but it can have 1 or more invocations.\n",
    "\n",
    "Here's what most functions look like in Python:\n",
    "\n",
    "![image.png](attachment:image.png)\n",
    "\n",
    "If a program contains a function definition, but it is not called, it won't run!\n",
    "\n",
    "It is the user that must supply the function with the necessary arguments/parameters, else nothing will happen and you'll feel sad :(\n",
    "\n",
    "A formal parameter is the parameter from the perspective of the function definition. Therefore, a function call binds the actual parameters sent by the user to their corresponding formal parameters.\n",
    "\n",
    "While a user can pass multiple arguments into a function, a function ordinarily passes back to the user one piece of information via the **return** statement.  Function calls can also be called as part of an assignment statement.\n",
    "\n",
    "It is not uncommon for programmers to write a **main()** controlling function that calls other functions to accomplish the work of the application."
   ]
  },
  {
   "cell_type": "code",
   "execution_count": 54,
   "metadata": {},
   "outputs": [
    {
     "name": "stdout",
     "output_type": "stream",
     "text": [
      "Before increment, x= 5\n",
      "Beginning execution of increment, x= 5\n",
      "Ending execution of increment, x=6\n",
      "After increment, x=5\n"
     ]
    }
   ],
   "source": [
    "def increment(x):\n",
    "    print(\"Beginning execution of increment, x=\", x)\n",
    "    x = x+1\n",
    "    print(f\"Ending execution of increment, x={x}\")\n",
    "\n",
    "def main():\n",
    "    x = 5\n",
    "    print(\"Before increment, x=\", x)\n",
    "    increment(x)\n",
    "    print(f\"After increment, x={x}\")\n",
    "\n",
    "main()"
   ]
  },
  {
   "cell_type": "markdown",
   "metadata": {},
   "source": [
    "### 7.3 Documenting Functions\n",
    "\n",
    "It is always good practice to document a function's definition with information that aids programmers who may need to use/extend the use of the function.\n",
    "\n",
    "Essential information includes:\n",
    "\n",
    "* The purpose of the function\n",
    "* The role of each parameter\n",
    "* The nature of the return value\n",
    "\n",
    "You can use comments to document your functions, but there is another way: documentation strings / docstrings.\n",
    "\n",
    "Docstrings are begun at the top of a function definition and they are initialized via triple quotes (\"\"\").\n",
    "\n",
    "What to include in docstrings:\n",
    "\n",
    "* Description of the function\n",
    "* Author of the function\n",
    "* Date the function was last modified\n",
    "* References via urls"
   ]
  },
  {
   "cell_type": "markdown",
   "metadata": {},
   "source": [
    "### 7.4 Function Examples\n",
    "\n",
    "1. Given a number, test whether it is a prime number?\n",
    "    \n",
    "    * Pseudocode taken from here:\n",
    "    https://en.wikipedia.org/wiki/Primality_test\n",
    "    \n",
    "    \n",
    "2. Simple confidence interval for a sample mean?\n",
    "\n",
    "    * $\\bar{x}\\pm t_{\\alpha/2}*\\frac{s.d.}{\\sqrt{n}}$\n",
    "    \n",
    "    * Source: Me and http://albertotb.com/Equivalence-between-distribution-functions-in-R-and-Python/\n",
    "    \n",
    "3. Find the middle of two points?\n",
    "    * $\\frac{X_{A}+X_{B}}{2}$, $\\frac{Y_{A}+Y_{B}}{2}$\n",
    "    \n",
    "4. Given a number, find its factorial using recursion?\n",
    "\n",
    "    * $n! = n*(n-1)*(n-2)*...*(1)$"
   ]
  },
  {
   "cell_type": "code",
   "execution_count": 15,
   "metadata": {},
   "outputs": [
    {
     "name": "stdout",
     "output_type": "stream",
     "text": [
      "The number 1 is prime: False\n",
      "The number 2 is prime: True\n",
      "The number 3 is prime: True\n",
      "The number 4 is prime: False\n",
      "The number 5 is prime: True\n",
      "The number 6 is prime: False\n",
      "The number 7 is prime: True\n",
      "The number 8 is prime: False\n",
      "The number 9 is prime: False\n"
     ]
    }
   ],
   "source": [
    "#1. Inputing a number, test whether it is a prime number?\n",
    "def is_prime(n):\n",
    "    if n <= 3:\n",
    "        return n > 1\n",
    "    elif n % 2 == 0 or n % 3 == 0:\n",
    "        return False\n",
    "    i = 5\n",
    "    while i*i <= n:\n",
    "        if n % i == 0 or n % (i+2) == 0:\n",
    "            return False\n",
    "        i = i + 6\n",
    "    return True\n",
    "\n",
    "for i in range(1,10):\n",
    "    print(f\"The number {i} is prime: {is_prime(i)}\")"
   ]
  },
  {
   "cell_type": "code",
   "execution_count": 55,
   "metadata": {},
   "outputs": [
    {
     "name": "stdout",
     "output_type": "stream",
     "text": [
      "t=1.96\n",
      "95.0% confidence interval for mu is: (1.08,8.92)\n"
     ]
    }
   ],
   "source": [
    "# Simple confidence interval for a mean?\n",
    "#http://albertotb.com/Equivalence-between-distribution-functions-in-R-and-Python/\n",
    "\n",
    "def CImean(mean, sd, n, conf_level=0.95):\n",
    "    from scipy.stats import norm\n",
    "    from math import sqrt\n",
    "    tvalue = norm.ppf(conf_level+(1-conf_level)/2) # This took a bit to figure out\n",
    "    LL = round(mean - (tvalue*(sd/sqrt(n))),3)\n",
    "    UL = round(mean + (tvalue*(sd/sqrt(n))),3)\n",
    "    print(f\"t={round(tvalue,3)}\")\n",
    "    print(f\"{conf_level*100}% confidence interval for mu is: ({LL},{UL})\")\n",
    "\n",
    "CImean(mean=5, sd=4, n=4, conf_level=0.95)"
   ]
  },
  {
   "cell_type": "code",
   "execution_count": 43,
   "metadata": {},
   "outputs": [
    {
     "name": "stdout",
     "output_type": "stream",
     "text": [
      "Midpoint of (0,0) and (1,1) is at: (0.5,0.5)\n"
     ]
    }
   ],
   "source": [
    "# Find the middle of two points?\n",
    "\n",
    "def middle(x1,y1,x2,y2):\n",
    "    X = (x1+x2)/2\n",
    "    Y = (y1+y2)/2\n",
    "    print(f\"Midpoint of ({x1},{y1}) and ({x2},{y2}) is at: ({X},{Y})\")\n",
    "\n",
    "middle(0,0,1,1)"
   ]
  },
  {
   "cell_type": "code",
   "execution_count": 56,
   "metadata": {},
   "outputs": [
    {
     "data": {
      "text/plain": [
       "120"
      ]
     },
     "execution_count": 56,
     "metadata": {},
     "output_type": "execute_result"
    }
   ],
   "source": [
    "# Given a number, determine its factorial using recursion?\n",
    "\n",
    "def factorial(n):\n",
    "    if n <=1:\n",
    "        return 1\n",
    "    else:\n",
    "        return n*factorial(n-1)\n",
    "    \n",
    "factorial(5)"
   ]
  },
  {
   "cell_type": "markdown",
   "metadata": {},
   "source": [
    "### 7.5 Refactoring to Eliminate Code Duplication\n",
    "\n",
    "https://realpython.com/python-refactoring/#code-complexity-in-python\n",
    "\n",
    "Sometimes, you may run into the same thing, which is known as code duplication, which is undesirable because:\n",
    "\n",
    "* Takes more work to write out the extra code\n",
    "\n",
    "* Code becomes more difficult to maintain: Imagine having to fix a bug for every single coding duplication, that would take forever. Also, you can run the risk of introducing inconsistency into the program's behavior.\n",
    "\n",
    "Through a process known as **code refactoring**, a programmer can place the common code within a function and tune the minor invariance in the behavior of the code via parameters.\n",
    "\n",
    "Refactoring is the process of changing the code without changing the functionality of the program you wrote.\n",
    "\n",
    "The two most common tasks you will perform hwen doing refactoring are:\n",
    "\n",
    "* Renaming modules, functions, classes, and methods\n",
    "\n",
    "* Finding usages of functions, classes, and methods to see where they are called"
   ]
  },
  {
   "cell_type": "markdown",
   "metadata": {},
   "source": [
    "### 7.6 Custom Functions vs. Standard Functions\n",
    "\n",
    "Generally speaking, if you have the choice of using a standard library function or writing your own custom function that provides the same functionality, choose to use the standard library routine.\n",
    "\n",
    "Advantages include:\n",
    "\n",
    "* Effort to produce a function is eliminated entirely\n",
    "\n",
    "* You have to thoroughly test your function versus a proven method\n",
    "\n",
    "* Standard functions are tuned to be very efficient \n",
    "\n",
    "* Standard functions are well-documented, your code prolly isn't as well documented"
   ]
  },
  {
   "cell_type": "markdown",
   "metadata": {},
   "source": [
    "### 7.7 After-school Learning\n",
    "[User-Defined Functions in Python](https://www.codementor.io/@kaushikpal/user-defined-functions-in-python-8s7wyc8k2)\n",
    "\n",
    "The *return* statement exits a function, optionally passing back an expression to the caller. A return statement with no arguments is the same as **return None**.\n",
    "\n",
    "#### Function arguments in Python\n",
    "\n",
    "User-defined functions can take four different types of arguments:\n",
    "\n",
    "* Default arguments:\n",
    "    \n",
    "    - Default values indicate that the function argument will take that value if no argument value is passed during a function call. The default value is assigned by using the assignment operator (=).\n",
    "    \n",
    "* Required arguments:\n",
    "    \n",
    "    - Required arguments are the mandatory arguments of a function. These values must be passed in correct number and order during a function call. Required arguments don't have a default, so their values must be supplied in the function call.\n",
    "    \n",
    "* Keyword arguments:\n",
    "\n",
    "     - Keywords are mapped with the function arguments so the function can easily identify the corresponding values even if the order is not maintained during the call of the function.\n",
    "\n",
    "* Variable number of arguments:\n",
    "\n",
    "    - Useful for when you don't know the exact number of arguments that will be passed to the function. Usually denoted by ***args**.\n",
    "    \n",
    "#### Writing user-defined functions in Python\n",
    "\n",
    "* **Step 1:** Declare the function with the key word *def* followed by the name of the function\n",
    "\n",
    "* **Step 2:** Write the arguments inside the opening and closing parentheses of the function; end the declaration with a colon.\n",
    "\n",
    "* **Step 3:** Add the program statements to be executed\n",
    "\n",
    "* **Step 4:** End the function with/without a return/print statement"
   ]
  },
  {
   "cell_type": "code",
   "execution_count": 61,
   "metadata": {},
   "outputs": [
    {
     "name": "stdout",
     "output_type": "stream",
     "text": [
      "The output is: \n",
      "50\n",
      "60\n",
      "70\n",
      "80\n"
     ]
    }
   ],
   "source": [
    "# Variable number of arguments example\n",
    "\n",
    "def varLenArgFunc(*varlist):\n",
    "    print(\"The output is: \")\n",
    "    for var in varlist:\n",
    "        print(var)\n",
    "\n",
    "varLenArgFunc(50, 60, 70, 80)"
   ]
  },
  {
   "cell_type": "code",
   "execution_count": 73,
   "metadata": {},
   "outputs": [
    {
     "data": {
      "text/plain": [
       "10"
      ]
     },
     "execution_count": 73,
     "metadata": {},
     "output_type": "execute_result"
    }
   ],
   "source": [
    "def sum(*nums):\n",
    "    sum = 0 # Start with 0\n",
    "    for num in nums: # For each number in your list\n",
    "        sum += num # Add the number to the current sum\n",
    "    return sum\n",
    "sum(1,2,3,4)"
   ]
  },
  {
   "cell_type": "code",
   "execution_count": null,
   "metadata": {},
   "outputs": [],
   "source": []
  }
 ],
 "metadata": {
  "kernelspec": {
   "display_name": "Python 3",
   "language": "python",
   "name": "python3"
  },
  "language_info": {
   "codemirror_mode": {
    "name": "ipython",
    "version": 3
   },
   "file_extension": ".py",
   "mimetype": "text/x-python",
   "name": "python",
   "nbconvert_exporter": "python",
   "pygments_lexer": "ipython3",
   "version": "3.7.7"
  },
  "toc": {
   "base_numbering": 1,
   "nav_menu": {},
   "number_sections": true,
   "sideBar": true,
   "skip_h1_title": false,
   "title_cell": "Table of Contents",
   "title_sidebar": "Contents",
   "toc_cell": true,
   "toc_position": {},
   "toc_section_display": true,
   "toc_window_display": false
  }
 },
 "nbformat": 4,
 "nbformat_minor": 4
}
