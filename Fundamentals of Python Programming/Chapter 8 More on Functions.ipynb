{
 "cells": [
  {
   "cell_type": "markdown",
   "metadata": {
    "toc": true
   },
   "source": [
    "<h1>Table of Contents<span class=\"tocSkip\"></span></h1>\n",
    "<div class=\"toc\"><ul class=\"toc-item\"><li><span><a href=\"#Chapter-8-More-on-Functions\" data-toc-modified-id=\"Chapter-8-More-on-Functions-1\"><span class=\"toc-item-num\">1&nbsp;&nbsp;</span>Chapter 8 More on Functions</a></span><ul class=\"toc-item\"><li><span><a href=\"#8.1-Global-Variables\" data-toc-modified-id=\"8.1-Global-Variables-1.1\"><span class=\"toc-item-num\">1.1&nbsp;&nbsp;</span>8.1 Global Variables</a></span></li><li><span><a href=\"#8.2-Default-Parameters\" data-toc-modified-id=\"8.2-Default-Parameters-1.2\"><span class=\"toc-item-num\">1.2&nbsp;&nbsp;</span>8.2 Default Parameters</a></span></li><li><span><a href=\"#8.3-Introduction-to-Recursion\" data-toc-modified-id=\"8.3-Introduction-to-Recursion-1.3\"><span class=\"toc-item-num\">1.3&nbsp;&nbsp;</span>8.3 Introduction to Recursion</a></span></li><li><span><a href=\"#8.4-Making-Functions-Reusable\" data-toc-modified-id=\"8.4-Making-Functions-Reusable-1.4\"><span class=\"toc-item-num\">1.4&nbsp;&nbsp;</span>8.4 Making Functions Reusable</a></span></li><li><span><a href=\"#8.5-Functions-as-Data\" data-toc-modified-id=\"8.5-Functions-as-Data-1.5\"><span class=\"toc-item-num\">1.5&nbsp;&nbsp;</span>8.5 Functions as Data</a></span></li><li><span><a href=\"#8.7-Lambda-Expressions\" data-toc-modified-id=\"8.7-Lambda-Expressions-1.6\"><span class=\"toc-item-num\">1.6&nbsp;&nbsp;</span>8.7 Lambda Expressions</a></span></li><li><span><a href=\"#8.8-Generators\" data-toc-modified-id=\"8.8-Generators-1.7\"><span class=\"toc-item-num\">1.7&nbsp;&nbsp;</span>8.8 Generators</a></span></li><li><span><a href=\"#8.9-Local-Function-Definitions\" data-toc-modified-id=\"8.9-Local-Function-Definitions-1.8\"><span class=\"toc-item-num\">1.8&nbsp;&nbsp;</span>8.9 Local Function Definitions</a></span></li><li><span><a href=\"#8.10-Decorators\" data-toc-modified-id=\"8.10-Decorators-1.9\"><span class=\"toc-item-num\">1.9&nbsp;&nbsp;</span>8.10 Decorators</a></span></li><li><span><a href=\"#8.11-Exercises\" data-toc-modified-id=\"8.11-Exercises-1.10\"><span class=\"toc-item-num\">1.10&nbsp;&nbsp;</span>8.11 Exercises</a></span></li></ul></li></ul></div>"
   ]
  },
  {
   "cell_type": "markdown",
   "metadata": {},
   "source": [
    "## Chapter 8 More on Functions\n",
    "\n",
    "This chapter introduces recursion and other important things."
   ]
  },
  {
   "cell_type": "markdown",
   "metadata": {},
   "source": [
    "### 8.1 Global Variables\n",
    "\n",
    "Local variables: variables defined within functions\n",
    "    \n",
    "* Only uses memory when the function is executed\n",
    "    \n",
    "* The same variable name can be used in different functions without any conflict. If the interpreter attempts to execute a statement that uses an undefined variable, you'll get a run-time error.\n",
    "\n",
    "* Functions that use only local variables can be tested for correctness in isolation from other functions you may have written, since they don't affect the behavior of the other functions.\n",
    "    \n",
    "Global variables: variables defined outside functions\n",
    "\n",
    "* are defined using the global reserved word\n",
    "    \n",
    "* if a function defines a local variable with the same name as a global variable, the global variable becomes inaccessible; so the local variable hides the global variable from code in the function's body.\n",
    "\n",
    "Independent function: the exclusion of global variables\n",
    "\n",
    "Dependent function: depends on information outside of its scope to perform"
   ]
  },
  {
   "cell_type": "markdown",
   "metadata": {},
   "source": [
    "### 8.2 Default Parameters\n",
    "\n",
    "We can define our own functions that accept a varying number of parameters by using a technique known as *default parameters*.\n",
    "\n",
    "Consider the following example:"
   ]
  },
  {
   "cell_type": "code",
   "execution_count": 7,
   "metadata": {},
   "outputs": [
    {
     "name": "stdout",
     "output_type": "stream",
     "text": [
      "10\n",
      "9\n",
      "8\n",
      "7\n",
      "6\n",
      "5\n",
      "4\n",
      "3\n",
      "2\n",
      "1\n"
     ]
    }
   ],
   "source": [
    "def countdown(n=10):\n",
    "    from time import sleep\n",
    "    for count in range(n, 0, -1):\n",
    "        print(count)\n",
    "        sleep(0.4)\n",
    "countdown()"
   ]
  },
  {
   "cell_type": "markdown",
   "metadata": {},
   "source": [
    "You can mix non-default and default parameters in the parameters lists of a function declaration, but default parameters must appear after the non-default parameters.\n",
    "\n",
    "Like so:"
   ]
  },
  {
   "cell_type": "code",
   "execution_count": 10,
   "metadata": {},
   "outputs": [
    {
     "ename": "SyntaxError",
     "evalue": "unexpected EOF while parsing (<ipython-input-10-73d196950e25>, line 1)",
     "output_type": "error",
     "traceback": [
      "\u001b[1;36m  File \u001b[1;32m\"<ipython-input-10-73d196950e25>\"\u001b[1;36m, line \u001b[1;32m1\u001b[0m\n\u001b[1;33m    def sum_range(n, m=100):\u001b[0m\n\u001b[1;37m                            ^\u001b[0m\n\u001b[1;31mSyntaxError\u001b[0m\u001b[1;31m:\u001b[0m unexpected EOF while parsing\n"
     ]
    }
   ],
   "source": [
    "def sum_range(n, m=100):"
   ]
  },
  {
   "cell_type": "markdown",
   "metadata": {},
   "source": [
    "### 8.3 Introduction to Recursion\n",
    "\n",
    "The *factorial* function is widely used in combinatorial analysis (counting theory), probability theory, and statistics. It is usually expressed as $n!$, which for non-negative integers is equal to: \n",
    "    \n",
    "$$n! = n*(n-1)*(n-2)*(n-3)*3*2*1$$\n",
    "\n",
    "In a similar way, Python functions can also be defined recursively.\n",
    "\n",
    "In addition, the greatest common divisor can be defined as follows:\n",
    "\n",
    "$$gcd(a, 0) = a$$\n",
    "\n",
    "and \n",
    "\n",
    "$$gcd(a,b) = gcd(b, a mod b)$$\n",
    "\n",
    "[GCD](https://en.wikipedia.org/wiki/Greatest_common_divisor#Calculation)\n",
    "\n",
    "Take a look at the following example:"
   ]
  },
  {
   "cell_type": "code",
   "execution_count": 17,
   "metadata": {},
   "outputs": [
    {
     "name": "stdout",
     "output_type": "stream",
     "text": [
      "0! = 1\n",
      "1! = 1\n",
      "2! = 2\n",
      "3! = 6\n",
      "4! = 24\n",
      "5! = 120\n",
      "6! = 720\n",
      "7! = 5040\n",
      "8! = 40320\n",
      "9! = 362880\n"
     ]
    }
   ],
   "source": [
    "# Factorial \n",
    "\n",
    "def factorial(n):\n",
    "    if n <= 1: # Don't forget this part or you'll be stuck with a run-time error\n",
    "        return 1\n",
    "    else:\n",
    "        return n*factorial(n-1) # This is where we call the function inside itself\n",
    "\n",
    "for i in range(0, 10):\n",
    "    print(f\"{i}! = {factorial(i)}\")"
   ]
  },
  {
   "cell_type": "code",
   "execution_count": 18,
   "metadata": {},
   "outputs": [
    {
     "data": {
      "text/plain": [
       "2"
      ]
     },
     "execution_count": 18,
     "metadata": {},
     "output_type": "execute_result"
    }
   ],
   "source": [
    "# Greatest common divisor\n",
    "\n",
    "def gcd(a, b):\n",
    "    if b == 0:\n",
    "        return a\n",
    "    else:\n",
    "        return gcd(a, a%b)\n",
    "\n",
    "gcd(2, 4)"
   ]
  },
  {
   "cell_type": "markdown",
   "metadata": {},
   "source": [
    "A correct, simple recursive function is based on the following 4 principles:\n",
    "\n",
    "1. The function, optionally, must call itself within its definition - *recursive case*\n",
    "\n",
    "2. The function, optionally, must not call itself within its definition - *base case*\n",
    "\n",
    "3. Some sort of conditional expression (like an **if/else** statement) selects between the recursive case and the base case based on one or more parameters in the function call\n",
    "\n",
    "4. Each invocation must move the execution closer to the base case, i.e., converge back to the base case."
   ]
  },
  {
   "cell_type": "markdown",
   "metadata": {},
   "source": [
    "### 8.4 Making Functions Reusable\n",
    "\n",
    "If a function does use any programmer-defined global variables or programmer-defined functions, it can be reused in other programs. However, if you do use external dependencies, they must also be included in the new program as well.\n",
    "\n",
    "* It should be noted that the author of these notebooks copies from the source code all of the time.\n",
    "\n",
    "For example, if you make a t-test function that you would like to use for other projects, using only what you've learned up to this point, you would have to copy and paste the function and any dependencies as well. God forbid you discover a bug in the function and you've copied it to multiple programs.\n",
    "\n",
    "Luckily, there is a solution, in the form of *modules*, which is made up of the Python source file.\n",
    "\n",
    "You can import these modules via the **import** statment, with the optional **from** and **as** parameters."
   ]
  },
  {
   "cell_type": "code",
   "execution_count": 24,
   "metadata": {},
   "outputs": [],
   "source": [
    "import numpy as np\n",
    "from numpy import array"
   ]
  },
  {
   "cell_type": "markdown",
   "metadata": {},
   "source": [
    "### 8.5 Functions as Data\n",
    "\n",
    "`buffering`: a special place in memory that helps speed up programs\n",
    "\n",
    "Buffering can also cause programs to not print the full output.\n",
    "\n",
    "To fix this problem: add the keyword **flush** with the value **True**."
   ]
  },
  {
   "attachments": {
    "image.png": {
     "image/png": "[encoded data removed]"
    }
   },
   "cell_type": "markdown",
   "metadata": {},
   "source": [
    "### 8.7 Lambda Expressions\n",
    "\n",
    "One of the primary benefits of functions is that we can write a function's code once and use it wherever we want within the program.\n",
    "\n",
    "Python supports simple, anonymous functions via **lambda** expressions.\n",
    "\n",
    "![image.png](attachment:image.png)\n",
    "\n",
    "* **lambda** is a reserved word that introduces a lambda expression\n",
    "\n",
    "* *parameterlist* is a comma-separated list of parameters, just like in a function's definition\n",
    "\n",
    "* *expression* is a single Python expression, thus, it cannot be a block of statements\n",
    "\n",
    "* use an implicit **return** statement\n",
    "\n",
    "* assignments are not possible within **lambda** expressions\n",
    "\n",
    "* loops are not allowed\n",
    "\n",
    "* So, what's the point of using lambda expressions then???"
   ]
  },
  {
   "cell_type": "markdown",
   "metadata": {},
   "source": [
    "### 8.8 Generators\n",
    "\n",
    "Usually, functions cannot remember anything about past invocations/uses.\n",
    "\n",
    "In order to write functions with persistence, we need to use programming *objects*.\n",
    "\n",
    "A `generator` is a programming object that produces/generates a sequence of values. The code that uses the `generator` consumes the generator's product.\n",
    "\n",
    "Instead of using the **return** keyword, it uses the **yield** keyword. If the body of a **def** contains **yield**, the function automatically becomes a generator function.\n",
    "\n",
    "A `generator` object is one example of an iterable object, which can be accessed via a **for** statement.\n",
    "\n",
    "Again, when would I use a generator over a regular function?"
   ]
  },
  {
   "cell_type": "markdown",
   "metadata": {},
   "source": [
    "### 8.9 Local Function Definitions\n",
    "\n",
    "Remember, *functional decomposition* is breaking down a large, complex program into smaller, more manageable pieces.\n",
    "\n",
    "Python allows users to define functions within other functions, which are accessible available to the code *within* their enclosing function but are inaccessible *outside* their enclosing function.\n",
    "\n",
    "Take for example the calculation of a derivative:\n",
    "\n",
    "$$f'(a) = \\lim_{h \\to 0}\\frac{f(a+h)-f(a)}{h}$$\n",
    "\n",
    "The derivative of a function is itself a function, and the closer $h$ gets to 0, the better the derivative estimate becomes.\n",
    "\n",
    "Let's try to find the derivative of $3x^{2}+5$ at various points."
   ]
  },
  {
   "cell_type": "code",
   "execution_count": 31,
   "metadata": {},
   "outputs": [
    {
     "name": "stdout",
     "output_type": "stream",
     "text": [
      "------------------------------------------------------\n",
      "                            Approx.     Actual\n",
      " x          f(x)      h      f'(x)      f'(x)\n",
      "------------------------------------------------------\n",
      "5.00000 80.00000 0.00000010 30.00000 30.00000\n",
      "5.01000 80.30030 0.00000010 30.06000 30.06000\n",
      "5.02000 80.60120 0.00000010 30.12000 30.12000\n",
      "5.03000 80.90270 0.00000010 30.18000 30.18000\n",
      "5.04000 81.20480 0.00000010 30.24000 30.24000\n",
      "5.05000 81.50750 0.00000010 30.30000 30.30000\n",
      "5.06000 81.81080 0.00000010 30.36000 30.36000\n",
      "5.07000 82.11470 0.00000010 30.42000 30.42000\n",
      "5.08000 82.41920 0.00000010 30.48000 30.48000\n",
      "5.09000 82.72430 0.00000010 30.54000 30.54000\n",
      "5.10000 83.03000 0.00000010 30.60000 30.60000\n"
     ]
    }
   ],
   "source": [
    "def derivative(f, h):\n",
    "    \"\"\"Approximates the derivative of a function f\n",
    "    given an h value. The close h is to zero, the \n",
    "    better the estimate.  \"\"\"\n",
    "    return lambda x: (f(x+h)-f(x)) / h\n",
    "\n",
    "def fun(x):\n",
    "    return (3*x**2) + 5 # Our sample function to differentiate\n",
    "\n",
    "def ans(x):\n",
    "    return 6*x # The known derivative to function\n",
    "\n",
    "# Difference: Closer to 0 = better\n",
    "h = 0.0000001\n",
    "\n",
    "# Compute the function representing an approximation of the derivative\n",
    "der = derivative(fun, h)\n",
    "\n",
    "# Compare the computed derivative to the exact derivative derived symbollically\n",
    "x = 5.0\n",
    "print('------------------------------------------------------')\n",
    "print('                            Approx.     Actual')\n",
    "print(' x          f(x)      h      f\\'(x)      f\\'(x)')\n",
    "print('------------------------------------------------------')\n",
    "while x < 5.1:\n",
    "    print('{:.5f} {:.5f} {:.8f} {:.5f} {:.5f}'.format(x, fun(x), h, der(x), ans(x)))\n",
    "    x += 0.01"
   ]
  },
  {
   "cell_type": "markdown",
   "metadata": {},
   "source": [
    "### 8.10 Decorators\n",
    "\n",
    "We can add functionality to arbitrary functions\n",
    "\n",
    "However, it can be laborious to modify a function every time we want to use it, especially if we have tons of functions that we'd like to use.\n",
    "\n",
    "What we want is a way to augment the functions in a uniform way without modifying them. Luckily, since functions can be used as arguments and are objects, we can.\n",
    "\n",
    "In essence, a `decorator` does not change the way a function works, but rather, it simply adds some \"decoration\" to the function which usually augments the functions behavior in some way. Also, `a decorator` is a callable that returns a callable. \n",
    "\n",
    "It cannot modify the inner workings of a function.\n",
    "\n",
    "Uses the special **@** syntax.\n",
    "\n",
    "You also get to unlock a new color when coding!"
   ]
  },
  {
   "cell_type": "markdown",
   "metadata": {},
   "source": [
    "### 8.11 Exercises"
   ]
  },
  {
   "cell_type": "code",
   "execution_count": null,
   "metadata": {
    "scrolled": true
   },
   "outputs": [],
   "source": []
  },
  {
   "cell_type": "code",
   "execution_count": null,
   "metadata": {},
   "outputs": [],
   "source": []
  },
  {
   "cell_type": "code",
   "execution_count": null,
   "metadata": {},
   "outputs": [],
   "source": []
  },
  {
   "cell_type": "code",
   "execution_count": null,
   "metadata": {},
   "outputs": [],
   "source": []
  }
 ],
 "metadata": {
  "kernelspec": {
   "display_name": "Python 3",
   "language": "python",
   "name": "python3"
  },
  "language_info": {
   "codemirror_mode": {
    "name": "ipython",
    "version": 3
   },
   "file_extension": ".py",
   "mimetype": "text/x-python",
   "name": "python",
   "nbconvert_exporter": "python",
   "pygments_lexer": "ipython3",
   "version": "3.7.7"
  },
  "toc": {
   "base_numbering": 1,
   "nav_menu": {},
   "number_sections": true,
   "sideBar": true,
   "skip_h1_title": false,
   "title_cell": "Table of Contents",
   "title_sidebar": "Contents",
   "toc_cell": true,
   "toc_position": {},
   "toc_section_display": true,
   "toc_window_display": false
  }
 },
 "nbformat": 4,
 "nbformat_minor": 4
}
